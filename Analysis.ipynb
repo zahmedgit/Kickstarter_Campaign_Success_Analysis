{
 "cells": [
  {
   "cell_type": "code",
   "execution_count": 287,
   "metadata": {},
   "outputs": [],
   "source": [
    "import pandas as pd\n",
    "pd.set_option('display.max_columns', 300)\n",
    "import numpy as np\n",
    "import matplotlib.pyplot as plt\n",
    "import seaborn as sns\n",
    "import ast\n",
    "from sklearn.model_selection import train_test_split\n",
    "from sklearn.preprocessing import StandardScaler\n",
    "from statsmodels.formula.api import ols\n",
    "from sklearn.utils import resample\n",
    "from sklearn.linear_model import LogisticRegression\n",
    "from sklearn.neighbors import KNeighborsClassifier\n",
    "from sklearn import metrics\n",
    "from sklearn.metrics import accuracy_score,f1_score\n",
    "from sklearn.tree import DecisionTreeClassifier\n",
    "from sklearn.model_selection import GridSearchCV\n",
    "from sklearn.ensemble import VotingClassifier\n",
    "from sklearn.ensemble import BaggingClassifier, RandomForestRegressor, ExtraTreesRegressor, RandomForestClassifier\n",
    "import xgboost as xgb"
   ]
  },
  {
   "cell_type": "code",
   "execution_count": 140,
   "metadata": {},
   "outputs": [],
   "source": [
    "from matplotlib import style\n",
    "style.use('seaborn')\n",
    "%matplotlib inline"
   ]
  },
  {
   "cell_type": "code",
   "execution_count": 5,
   "metadata": {},
   "outputs": [
    {
     "data": {
      "text/html": [
       "<div>\n",
       "<style scoped>\n",
       "    .dataframe tbody tr th:only-of-type {\n",
       "        vertical-align: middle;\n",
       "    }\n",
       "\n",
       "    .dataframe tbody tr th {\n",
       "        vertical-align: top;\n",
       "    }\n",
       "\n",
       "    .dataframe thead th {\n",
       "        text-align: right;\n",
       "    }\n",
       "</style>\n",
       "<table border=\"1\" class=\"dataframe\">\n",
       "  <thead>\n",
       "    <tr style=\"text-align: right;\">\n",
       "      <th></th>\n",
       "      <th>backers_count</th>\n",
       "      <th>blurb</th>\n",
       "      <th>category</th>\n",
       "      <th>converted_pledged_amount</th>\n",
       "      <th>country</th>\n",
       "      <th>country_displayable_name</th>\n",
       "      <th>created_at</th>\n",
       "      <th>creator</th>\n",
       "      <th>currency</th>\n",
       "      <th>currency_symbol</th>\n",
       "      <th>currency_trailing_code</th>\n",
       "      <th>current_currency</th>\n",
       "      <th>deadline</th>\n",
       "      <th>disable_communication</th>\n",
       "      <th>friends</th>\n",
       "      <th>fx_rate</th>\n",
       "      <th>goal</th>\n",
       "      <th>is_backing</th>\n",
       "      <th>is_starrable</th>\n",
       "      <th>is_starred</th>\n",
       "      <th>launched_at</th>\n",
       "      <th>location</th>\n",
       "      <th>name</th>\n",
       "      <th>permissions</th>\n",
       "      <th>photo</th>\n",
       "      <th>pledged</th>\n",
       "      <th>profile</th>\n",
       "      <th>slug</th>\n",
       "      <th>source_url</th>\n",
       "      <th>spotlight</th>\n",
       "      <th>staff_pick</th>\n",
       "      <th>state</th>\n",
       "      <th>state_changed_at</th>\n",
       "      <th>static_usd_rate</th>\n",
       "      <th>urls</th>\n",
       "      <th>usd_pledged</th>\n",
       "      <th>usd_type</th>\n",
       "    </tr>\n",
       "    <tr>\n",
       "      <th>id</th>\n",
       "      <th></th>\n",
       "      <th></th>\n",
       "      <th></th>\n",
       "      <th></th>\n",
       "      <th></th>\n",
       "      <th></th>\n",
       "      <th></th>\n",
       "      <th></th>\n",
       "      <th></th>\n",
       "      <th></th>\n",
       "      <th></th>\n",
       "      <th></th>\n",
       "      <th></th>\n",
       "      <th></th>\n",
       "      <th></th>\n",
       "      <th></th>\n",
       "      <th></th>\n",
       "      <th></th>\n",
       "      <th></th>\n",
       "      <th></th>\n",
       "      <th></th>\n",
       "      <th></th>\n",
       "      <th></th>\n",
       "      <th></th>\n",
       "      <th></th>\n",
       "      <th></th>\n",
       "      <th></th>\n",
       "      <th></th>\n",
       "      <th></th>\n",
       "      <th></th>\n",
       "      <th></th>\n",
       "      <th></th>\n",
       "      <th></th>\n",
       "      <th></th>\n",
       "      <th></th>\n",
       "      <th></th>\n",
       "      <th></th>\n",
       "    </tr>\n",
       "  </thead>\n",
       "  <tbody>\n",
       "    <tr>\n",
       "      <th>1655941487</th>\n",
       "      <td>76</td>\n",
       "      <td>Dave-Man. A game about getting Dave his coffee.</td>\n",
       "      <td>{\"id\":35,\"name\":\"Video Games\",\"slug\":\"games/vi...</td>\n",
       "      <td>697</td>\n",
       "      <td>US</td>\n",
       "      <td>the United States</td>\n",
       "      <td>1541608918</td>\n",
       "      <td>{\"id\":294143625,\"name\":\"Lou Bagel\",\"is_registe...</td>\n",
       "      <td>USD</td>\n",
       "      <td>$</td>\n",
       "      <td>True</td>\n",
       "      <td>USD</td>\n",
       "      <td>1556654150</td>\n",
       "      <td>False</td>\n",
       "      <td>NaN</td>\n",
       "      <td>1.0</td>\n",
       "      <td>150.0</td>\n",
       "      <td>NaN</td>\n",
       "      <td>False</td>\n",
       "      <td>NaN</td>\n",
       "      <td>1554062150</td>\n",
       "      <td>{\"id\":2379574,\"name\":\"Chicago\",\"slug\":\"chicago...</td>\n",
       "      <td>Dave-Man: Get Dave his Coffee</td>\n",
       "      <td>NaN</td>\n",
       "      <td>{\"key\":\"assets/023/730/601/26b6ae17220668181ce...</td>\n",
       "      <td>697.0</td>\n",
       "      <td>{\"id\":3509432,\"project_id\":3509432,\"state\":\"ac...</td>\n",
       "      <td>dave-man-get-dave-his-coffee</td>\n",
       "      <td>https://www.kickstarter.com/discover/categorie...</td>\n",
       "      <td>True</td>\n",
       "      <td>False</td>\n",
       "      <td>successful</td>\n",
       "      <td>1556654150</td>\n",
       "      <td>1.0</td>\n",
       "      <td>{\"web\":{\"project\":\"https://www.kickstarter.com...</td>\n",
       "      <td>697.0</td>\n",
       "      <td>domestic</td>\n",
       "    </tr>\n",
       "    <tr>\n",
       "      <th>359915455</th>\n",
       "      <td>6</td>\n",
       "      <td>My Vision \"Shanghai Dreaming Podcast\"this seri...</td>\n",
       "      <td>{\"id\":41,\"name\":\"Jazz\",\"slug\":\"music/jazz\",\"po...</td>\n",
       "      <td>440</td>\n",
       "      <td>US</td>\n",
       "      <td>the United States</td>\n",
       "      <td>1377505616</td>\n",
       "      <td>{\"id\":1097916022,\"name\":\"Sabrina  Montgomery\",...</td>\n",
       "      <td>USD</td>\n",
       "      <td>$</td>\n",
       "      <td>True</td>\n",
       "      <td>USD</td>\n",
       "      <td>1382136005</td>\n",
       "      <td>False</td>\n",
       "      <td>NaN</td>\n",
       "      <td>1.0</td>\n",
       "      <td>50000.0</td>\n",
       "      <td>NaN</td>\n",
       "      <td>False</td>\n",
       "      <td>NaN</td>\n",
       "      <td>1378248005</td>\n",
       "      <td>{\"id\":2453369,\"name\":\"Montgomery\",\"slug\":\"mont...</td>\n",
       "      <td>Shanghai Dreaming Podcast Short Stories, Music...</td>\n",
       "      <td>NaN</td>\n",
       "      <td>{\"key\":\"assets/011/568/787/0ffceb99352d65b6121...</td>\n",
       "      <td>440.0</td>\n",
       "      <td>{\"id\":677027,\"project_id\":677027,\"state\":\"inac...</td>\n",
       "      <td>shanghai-dreaming-podcast-short-stories-music-and</td>\n",
       "      <td>https://www.kickstarter.com/discover/categorie...</td>\n",
       "      <td>False</td>\n",
       "      <td>False</td>\n",
       "      <td>failed</td>\n",
       "      <td>1382136006</td>\n",
       "      <td>1.0</td>\n",
       "      <td>{\"web\":{\"project\":\"https://www.kickstarter.com...</td>\n",
       "      <td>440.0</td>\n",
       "      <td>domestic</td>\n",
       "    </tr>\n",
       "    <tr>\n",
       "      <th>1859434546</th>\n",
       "      <td>2</td>\n",
       "      <td>I have always loved cookies and have a great r...</td>\n",
       "      <td>{\"id\":313,\"name\":\"Small Batch\",\"slug\":\"food/sm...</td>\n",
       "      <td>40</td>\n",
       "      <td>US</td>\n",
       "      <td>the United States</td>\n",
       "      <td>1424288631</td>\n",
       "      <td>{\"id\":1496002217,\"name\":\"daniel koert\",\"is_reg...</td>\n",
       "      <td>USD</td>\n",
       "      <td>$</td>\n",
       "      <td>True</td>\n",
       "      <td>USD</td>\n",
       "      <td>1426952928</td>\n",
       "      <td>False</td>\n",
       "      <td>NaN</td>\n",
       "      <td>1.0</td>\n",
       "      <td>50000.0</td>\n",
       "      <td>NaN</td>\n",
       "      <td>False</td>\n",
       "      <td>NaN</td>\n",
       "      <td>1424364528</td>\n",
       "      <td>{\"id\":2438647,\"name\":\"Levittown\",\"slug\":\"levit...</td>\n",
       "      <td>Cookie Company</td>\n",
       "      <td>NaN</td>\n",
       "      <td>{\"key\":\"assets/012/041/603/93cd2709b69338b14ca...</td>\n",
       "      <td>40.0</td>\n",
       "      <td>{\"id\":1714661,\"project_id\":1714661,\"state\":\"in...</td>\n",
       "      <td>cookie-company</td>\n",
       "      <td>https://www.kickstarter.com/discover/categorie...</td>\n",
       "      <td>False</td>\n",
       "      <td>False</td>\n",
       "      <td>failed</td>\n",
       "      <td>1426952931</td>\n",
       "      <td>1.0</td>\n",
       "      <td>{\"web\":{\"project\":\"https://www.kickstarter.com...</td>\n",
       "      <td>40.0</td>\n",
       "      <td>domestic</td>\n",
       "    </tr>\n",
       "    <tr>\n",
       "      <th>1279967793</th>\n",
       "      <td>73</td>\n",
       "      <td>Kickstarter Campaign for the The Art of Mitch ...</td>\n",
       "      <td>{\"id\":45,\"name\":\"Art Books\",\"slug\":\"publishing...</td>\n",
       "      <td>11192</td>\n",
       "      <td>US</td>\n",
       "      <td>the United States</td>\n",
       "      <td>1463615618</td>\n",
       "      <td>{\"id\":999214729,\"name\":\"Mitch Foust\",\"is_regis...</td>\n",
       "      <td>USD</td>\n",
       "      <td>$</td>\n",
       "      <td>True</td>\n",
       "      <td>USD</td>\n",
       "      <td>1468202400</td>\n",
       "      <td>False</td>\n",
       "      <td>NaN</td>\n",
       "      <td>1.0</td>\n",
       "      <td>5000.0</td>\n",
       "      <td>NaN</td>\n",
       "      <td>False</td>\n",
       "      <td>NaN</td>\n",
       "      <td>1465560041</td>\n",
       "      <td>{\"id\":2449323,\"name\":\"Memphis\",\"slug\":\"memphis...</td>\n",
       "      <td>The Art of Mitch Foust 2016 Yearbook</td>\n",
       "      <td>NaN</td>\n",
       "      <td>{\"key\":\"assets/011/250/029/4639aeccc8840194187...</td>\n",
       "      <td>11192.0</td>\n",
       "      <td>{\"id\":2522024,\"project_id\":2522024,\"state\":\"in...</td>\n",
       "      <td>the-art-of-mitch-foust-2016-yearbook</td>\n",
       "      <td>https://www.kickstarter.com/discover/categorie...</td>\n",
       "      <td>True</td>\n",
       "      <td>False</td>\n",
       "      <td>successful</td>\n",
       "      <td>1468202400</td>\n",
       "      <td>1.0</td>\n",
       "      <td>{\"web\":{\"project\":\"https://www.kickstarter.com...</td>\n",
       "      <td>11192.0</td>\n",
       "      <td>domestic</td>\n",
       "    </tr>\n",
       "    <tr>\n",
       "      <th>1340461995</th>\n",
       "      <td>0</td>\n",
       "      <td>I want to make this an app that, 33 states and...</td>\n",
       "      <td>{\"id\":51,\"name\":\"Software\",\"slug\":\"technology/...</td>\n",
       "      <td>0</td>\n",
       "      <td>US</td>\n",
       "      <td>the United States</td>\n",
       "      <td>1508774685</td>\n",
       "      <td>{\"id\":1461334453,\"name\":\"Sylvester S. Harris I...</td>\n",
       "      <td>USD</td>\n",
       "      <td>$</td>\n",
       "      <td>True</td>\n",
       "      <td>USD</td>\n",
       "      <td>1511458247</td>\n",
       "      <td>False</td>\n",
       "      <td>NaN</td>\n",
       "      <td>1.0</td>\n",
       "      <td>50000.0</td>\n",
       "      <td>NaN</td>\n",
       "      <td>False</td>\n",
       "      <td>NaN</td>\n",
       "      <td>1508862647</td>\n",
       "      <td>{\"id\":2441472,\"name\":\"Long Beach\",\"slug\":\"long...</td>\n",
       "      <td>Data Aggregator - Patent pending</td>\n",
       "      <td>NaN</td>\n",
       "      <td>{\"key\":\"assets/018/879/453/26b51d9aa201e06e822...</td>\n",
       "      <td>0.0</td>\n",
       "      <td>{\"id\":3193987,\"project_id\":3193987,\"state\":\"in...</td>\n",
       "      <td>data-aggregator-patent-pending</td>\n",
       "      <td>https://www.kickstarter.com/discover/categorie...</td>\n",
       "      <td>False</td>\n",
       "      <td>False</td>\n",
       "      <td>failed</td>\n",
       "      <td>1511458248</td>\n",
       "      <td>1.0</td>\n",
       "      <td>{\"web\":{\"project\":\"https://www.kickstarter.com...</td>\n",
       "      <td>0.0</td>\n",
       "      <td>domestic</td>\n",
       "    </tr>\n",
       "  </tbody>\n",
       "</table>\n",
       "</div>"
      ],
      "text/plain": [
       "            backers_count                                              blurb  \\\n",
       "id                                                                             \n",
       "1655941487             76    Dave-Man. A game about getting Dave his coffee.   \n",
       "359915455               6  My Vision \"Shanghai Dreaming Podcast\"this seri...   \n",
       "1859434546              2  I have always loved cookies and have a great r...   \n",
       "1279967793             73  Kickstarter Campaign for the The Art of Mitch ...   \n",
       "1340461995              0  I want to make this an app that, 33 states and...   \n",
       "\n",
       "                                                     category  \\\n",
       "id                                                              \n",
       "1655941487  {\"id\":35,\"name\":\"Video Games\",\"slug\":\"games/vi...   \n",
       "359915455   {\"id\":41,\"name\":\"Jazz\",\"slug\":\"music/jazz\",\"po...   \n",
       "1859434546  {\"id\":313,\"name\":\"Small Batch\",\"slug\":\"food/sm...   \n",
       "1279967793  {\"id\":45,\"name\":\"Art Books\",\"slug\":\"publishing...   \n",
       "1340461995  {\"id\":51,\"name\":\"Software\",\"slug\":\"technology/...   \n",
       "\n",
       "            converted_pledged_amount country country_displayable_name  \\\n",
       "id                                                                      \n",
       "1655941487                       697      US        the United States   \n",
       "359915455                        440      US        the United States   \n",
       "1859434546                        40      US        the United States   \n",
       "1279967793                     11192      US        the United States   \n",
       "1340461995                         0      US        the United States   \n",
       "\n",
       "            created_at                                            creator  \\\n",
       "id                                                                          \n",
       "1655941487  1541608918  {\"id\":294143625,\"name\":\"Lou Bagel\",\"is_registe...   \n",
       "359915455   1377505616  {\"id\":1097916022,\"name\":\"Sabrina  Montgomery\",...   \n",
       "1859434546  1424288631  {\"id\":1496002217,\"name\":\"daniel koert\",\"is_reg...   \n",
       "1279967793  1463615618  {\"id\":999214729,\"name\":\"Mitch Foust\",\"is_regis...   \n",
       "1340461995  1508774685  {\"id\":1461334453,\"name\":\"Sylvester S. Harris I...   \n",
       "\n",
       "           currency currency_symbol  currency_trailing_code current_currency  \\\n",
       "id                                                                             \n",
       "1655941487      USD               $                    True              USD   \n",
       "359915455       USD               $                    True              USD   \n",
       "1859434546      USD               $                    True              USD   \n",
       "1279967793      USD               $                    True              USD   \n",
       "1340461995      USD               $                    True              USD   \n",
       "\n",
       "              deadline  disable_communication  friends  fx_rate     goal  \\\n",
       "id                                                                         \n",
       "1655941487  1556654150                  False      NaN      1.0    150.0   \n",
       "359915455   1382136005                  False      NaN      1.0  50000.0   \n",
       "1859434546  1426952928                  False      NaN      1.0  50000.0   \n",
       "1279967793  1468202400                  False      NaN      1.0   5000.0   \n",
       "1340461995  1511458247                  False      NaN      1.0  50000.0   \n",
       "\n",
       "            is_backing  is_starrable  is_starred  launched_at  \\\n",
       "id                                                              \n",
       "1655941487         NaN         False         NaN   1554062150   \n",
       "359915455          NaN         False         NaN   1378248005   \n",
       "1859434546         NaN         False         NaN   1424364528   \n",
       "1279967793         NaN         False         NaN   1465560041   \n",
       "1340461995         NaN         False         NaN   1508862647   \n",
       "\n",
       "                                                     location  \\\n",
       "id                                                              \n",
       "1655941487  {\"id\":2379574,\"name\":\"Chicago\",\"slug\":\"chicago...   \n",
       "359915455   {\"id\":2453369,\"name\":\"Montgomery\",\"slug\":\"mont...   \n",
       "1859434546  {\"id\":2438647,\"name\":\"Levittown\",\"slug\":\"levit...   \n",
       "1279967793  {\"id\":2449323,\"name\":\"Memphis\",\"slug\":\"memphis...   \n",
       "1340461995  {\"id\":2441472,\"name\":\"Long Beach\",\"slug\":\"long...   \n",
       "\n",
       "                                                         name  permissions  \\\n",
       "id                                                                           \n",
       "1655941487                      Dave-Man: Get Dave his Coffee          NaN   \n",
       "359915455   Shanghai Dreaming Podcast Short Stories, Music...          NaN   \n",
       "1859434546                                     Cookie Company          NaN   \n",
       "1279967793               The Art of Mitch Foust 2016 Yearbook          NaN   \n",
       "1340461995                   Data Aggregator - Patent pending          NaN   \n",
       "\n",
       "                                                        photo  pledged  \\\n",
       "id                                                                       \n",
       "1655941487  {\"key\":\"assets/023/730/601/26b6ae17220668181ce...    697.0   \n",
       "359915455   {\"key\":\"assets/011/568/787/0ffceb99352d65b6121...    440.0   \n",
       "1859434546  {\"key\":\"assets/012/041/603/93cd2709b69338b14ca...     40.0   \n",
       "1279967793  {\"key\":\"assets/011/250/029/4639aeccc8840194187...  11192.0   \n",
       "1340461995  {\"key\":\"assets/018/879/453/26b51d9aa201e06e822...      0.0   \n",
       "\n",
       "                                                      profile  \\\n",
       "id                                                              \n",
       "1655941487  {\"id\":3509432,\"project_id\":3509432,\"state\":\"ac...   \n",
       "359915455   {\"id\":677027,\"project_id\":677027,\"state\":\"inac...   \n",
       "1859434546  {\"id\":1714661,\"project_id\":1714661,\"state\":\"in...   \n",
       "1279967793  {\"id\":2522024,\"project_id\":2522024,\"state\":\"in...   \n",
       "1340461995  {\"id\":3193987,\"project_id\":3193987,\"state\":\"in...   \n",
       "\n",
       "                                                         slug  \\\n",
       "id                                                              \n",
       "1655941487                       dave-man-get-dave-his-coffee   \n",
       "359915455   shanghai-dreaming-podcast-short-stories-music-and   \n",
       "1859434546                                     cookie-company   \n",
       "1279967793               the-art-of-mitch-foust-2016-yearbook   \n",
       "1340461995                     data-aggregator-patent-pending   \n",
       "\n",
       "                                                   source_url  spotlight  \\\n",
       "id                                                                         \n",
       "1655941487  https://www.kickstarter.com/discover/categorie...       True   \n",
       "359915455   https://www.kickstarter.com/discover/categorie...      False   \n",
       "1859434546  https://www.kickstarter.com/discover/categorie...      False   \n",
       "1279967793  https://www.kickstarter.com/discover/categorie...       True   \n",
       "1340461995  https://www.kickstarter.com/discover/categorie...      False   \n",
       "\n",
       "            staff_pick       state  state_changed_at  static_usd_rate  \\\n",
       "id                                                                      \n",
       "1655941487       False  successful        1556654150              1.0   \n",
       "359915455        False      failed        1382136006              1.0   \n",
       "1859434546       False      failed        1426952931              1.0   \n",
       "1279967793       False  successful        1468202400              1.0   \n",
       "1340461995       False      failed        1511458248              1.0   \n",
       "\n",
       "                                                         urls  usd_pledged  \\\n",
       "id                                                                           \n",
       "1655941487  {\"web\":{\"project\":\"https://www.kickstarter.com...        697.0   \n",
       "359915455   {\"web\":{\"project\":\"https://www.kickstarter.com...        440.0   \n",
       "1859434546  {\"web\":{\"project\":\"https://www.kickstarter.com...         40.0   \n",
       "1279967793  {\"web\":{\"project\":\"https://www.kickstarter.com...      11192.0   \n",
       "1340461995  {\"web\":{\"project\":\"https://www.kickstarter.com...          0.0   \n",
       "\n",
       "            usd_type  \n",
       "id                    \n",
       "1655941487  domestic  \n",
       "359915455   domestic  \n",
       "1859434546  domestic  \n",
       "1279967793  domestic  \n",
       "1340461995  domestic  "
      ]
     },
     "execution_count": 5,
     "metadata": {},
     "output_type": "execute_result"
    }
   ],
   "source": [
    "df=pd.read_csv('Kickstarter.csv',index_col='id')\n",
    "df.head()"
   ]
  },
  {
   "cell_type": "code",
   "execution_count": 206,
   "metadata": {},
   "outputs": [
    {
     "name": "stdout",
     "output_type": "stream",
     "text": [
      "22\n",
      "22\n",
      "14\n"
     ]
    }
   ],
   "source": [
    "print(len(df.country.unique()))\n",
    "print(len(df.country_displayable_name.unique()))\n",
    "print(len(df.currency.unique()))"
   ]
  },
  {
   "cell_type": "code",
   "execution_count": 37,
   "metadata": {},
   "outputs": [
    {
     "data": {
      "text/plain": [
       "(3706, 37)"
      ]
     },
     "execution_count": 37,
     "metadata": {},
     "output_type": "execute_result"
    }
   ],
   "source": [
    "df.shape"
   ]
  },
  {
   "cell_type": "code",
   "execution_count": 60,
   "metadata": {},
   "outputs": [
    {
     "data": {
      "text/plain": [
       "array(['successful', 'failed', 'live', 'canceled'], dtype=object)"
      ]
     },
     "execution_count": 60,
     "metadata": {},
     "output_type": "execute_result"
    }
   ],
   "source": [
    "df.state.unique()"
   ]
  },
  {
   "cell_type": "code",
   "execution_count": 42,
   "metadata": {
    "collapsed": true
   },
   "outputs": [
    {
     "name": "stdout",
     "output_type": "stream",
     "text": [
      "1: NumRows:3713 vs NumUniqueIDs:3704\n",
      "2: NumRows:3710 vs NumUniqueIDs:3702\n",
      "3: NumRows:3710 vs NumUniqueIDs:3704\n",
      "4: NumRows:3710 vs NumUniqueIDs:3701\n",
      "5: NumRows:3708 vs NumUniqueIDs:3700\n",
      "6: NumRows:3710 vs NumUniqueIDs:3705\n",
      "7: NumRows:3713 vs NumUniqueIDs:3703\n",
      "8: NumRows:3713 vs NumUniqueIDs:3709\n",
      "9: NumRows:3706 vs NumUniqueIDs:3699\n",
      "10: NumRows:3707 vs NumUniqueIDs:3701\n",
      "11: NumRows:3705 vs NumUniqueIDs:3701\n",
      "12: NumRows:3711 vs NumUniqueIDs:3702\n",
      "13: NumRows:3711 vs NumUniqueIDs:3704\n",
      "14: NumRows:3709 vs NumUniqueIDs:3702\n",
      "15: NumRows:3714 vs NumUniqueIDs:3708\n",
      "16: NumRows:3710 vs NumUniqueIDs:3708\n",
      "17: NumRows:3709 vs NumUniqueIDs:3699\n",
      "18: NumRows:3706 vs NumUniqueIDs:3698\n",
      "19: NumRows:3711 vs NumUniqueIDs:3707\n",
      "20: NumRows:3708 vs NumUniqueIDs:3704\n",
      "21: NumRows:3707 vs NumUniqueIDs:3698\n",
      "22: NumRows:3706 vs NumUniqueIDs:3697\n",
      "23: NumRows:3711 vs NumUniqueIDs:3703\n",
      "24: NumRows:3710 vs NumUniqueIDs:3706\n",
      "25: NumRows:3709 vs NumUniqueIDs:3704\n",
      "26: NumRows:3712 vs NumUniqueIDs:3701\n",
      "27: NumRows:3709 vs NumUniqueIDs:3700\n",
      "28: NumRows:3709 vs NumUniqueIDs:3704\n",
      "29: NumRows:3710 vs NumUniqueIDs:3704\n",
      "30: NumRows:3713 vs NumUniqueIDs:3708\n",
      "31: NumRows:3708 vs NumUniqueIDs:3702\n",
      "32: NumRows:3706 vs NumUniqueIDs:3698\n",
      "33: NumRows:3709 vs NumUniqueIDs:3702\n",
      "34: NumRows:3713 vs NumUniqueIDs:3705\n",
      "35: NumRows:3707 vs NumUniqueIDs:3699\n",
      "36: NumRows:3706 vs NumUniqueIDs:3700\n",
      "37: NumRows:3710 vs NumUniqueIDs:3700\n",
      "38: NumRows:3710 vs NumUniqueIDs:3705\n",
      "39: NumRows:3706 vs NumUniqueIDs:3697\n",
      "40: NumRows:3710 vs NumUniqueIDs:3702\n",
      "41: NumRows:3713 vs NumUniqueIDs:3705\n",
      "42: NumRows:3704 vs NumUniqueIDs:3696\n",
      "43: NumRows:3711 vs NumUniqueIDs:3703\n",
      "44: NumRows:3709 vs NumUniqueIDs:3702\n",
      "45: NumRows:3710 vs NumUniqueIDs:3703\n",
      "46: NumRows:3709 vs NumUniqueIDs:3702\n",
      "47: NumRows:3710 vs NumUniqueIDs:3704\n",
      "48: NumRows:3705 vs NumUniqueIDs:3699\n",
      "49: NumRows:3712 vs NumUniqueIDs:3704\n",
      "50: NumRows:3707 vs NumUniqueIDs:3701\n",
      "51: NumRows:3710 vs NumUniqueIDs:3705\n",
      "52: NumRows:3709 vs NumUniqueIDs:3700\n",
      "53: NumRows:3707 vs NumUniqueIDs:3705\n",
      "54: NumRows:3710 vs NumUniqueIDs:3698\n",
      "55: NumRows:618 vs NumUniqueIDs:617\n",
      "Total Rows:204625, Total Unique:204241\n"
     ]
    }
   ],
   "source": [
    "# Load in and concat all csv files for each month to first dataframe, starting from most recent to earliest\n",
    "total_rows=df.shape[0]\n",
    "total_unique=len(df.index.unique())\n",
    "for num in range(1,56):\n",
    "    if num<10:\n",
    "        test_df=pd.read_csv('Kickstarter00{}.csv'.format(num), index_col='id')\n",
    "        rows,unique=test_df.shape[0],len(test_df.index.unique())\n",
    "        df=pd.concat([df,test_df])\n",
    "        print('{}: NumRows:'.format(num)+str(test_df.shape[0])+' vs NumUniqueIDs:'+str(len(test_df.index.unique())))\n",
    "        total_rows+=rows\n",
    "        total_unique+=unique\n",
    "    else:\n",
    "        test_df=pd.read_csv('Kickstarter0{}.csv'.format(num), index_col='id')\n",
    "        rows,unique=test_df.shape[0],len(test_df.index.unique())\n",
    "        df=pd.concat([df,test_df])\n",
    "        print('{}: NumRows:'.format(num)+str(test_df.shape[0])+' vs NumUniqueIDs:'+str(len(test_df.index.unique())))\n",
    "        total_rows+=rows\n",
    "        total_unique+=unique\n",
    "        \n",
    "print('Total Rows:'+str(total_rows)+', Total Unique:'+str(total_unique))"
   ]
  },
  {
   "cell_type": "code",
   "execution_count": 70,
   "metadata": {},
   "outputs": [],
   "source": [
    "# create df with no dupes\n",
    "df_nondupe=df[~df.index.duplicated(keep='first')]"
   ]
  },
  {
   "cell_type": "code",
   "execution_count": 109,
   "metadata": {},
   "outputs": [
    {
     "data": {
      "text/plain": [
       "array(['successful', 'failed'], dtype=object)"
      ]
     },
     "execution_count": 109,
     "metadata": {},
     "output_type": "execute_result"
    }
   ],
   "source": [
    "# filter out campaigns that were canceled or are still live since they can't help train model to predict success/failure\n",
    "df_train=df_nondupe[(df_nondupe.state=='successful') | (df_nondupe.state=='failed')]\n",
    "df_train.state.unique()"
   ]
  },
  {
   "cell_type": "code",
   "execution_count": null,
   "metadata": {},
   "outputs": [],
   "source": []
  },
  {
   "cell_type": "code",
   "execution_count": 78,
   "metadata": {},
   "outputs": [
    {
     "data": {
      "text/plain": [
       "array([nan], dtype=object)"
      ]
     },
     "execution_count": 78,
     "metadata": {},
     "output_type": "execute_result"
    }
   ],
   "source": [
    "df_train.is_backing.unique()"
   ]
  },
  {
   "cell_type": "code",
   "execution_count": 79,
   "metadata": {},
   "outputs": [
    {
     "data": {
      "text/plain": [
       "(169626, 37)"
      ]
     },
     "execution_count": 79,
     "metadata": {},
     "output_type": "execute_result"
    }
   ],
   "source": [
    "df_train.shape"
   ]
  },
  {
   "cell_type": "code",
   "execution_count": 83,
   "metadata": {},
   "outputs": [
    {
     "data": {
      "text/plain": [
       "<matplotlib.axes._subplots.AxesSubplot at 0x24831cd0b88>"
      ]
     },
     "execution_count": 83,
     "metadata": {},
     "output_type": "execute_result"
    },
    {
     "data": {
      "image/png": "[encoded data removed]",
      "text/plain": [
       "<Figure size 432x288 with 1 Axes>"
      ]
     },
     "metadata": {
      "needs_background": "light"
     },
     "output_type": "display_data"
    }
   ],
   "source": [
    "y=df_train.state\n",
    "y.value_counts().plot(kind='bar')"
   ]
  },
  {
   "cell_type": "code",
   "execution_count": 169,
   "metadata": {},
   "outputs": [
    {
     "name": "stderr",
     "output_type": "stream",
     "text": [
      "C:\\Users\\Drago\\anaconda3\\lib\\site-packages\\ipykernel_launcher.py:1: SettingWithCopyWarning: \n",
      "A value is trying to be set on a copy of a slice from a DataFrame.\n",
      "Try using .loc[row_indexer,col_indexer] = value instead\n",
      "\n",
      "See the caveats in the documentation: https://pandas.pydata.org/pandas-docs/stable/user_guide/indexing.html#returning-a-view-versus-a-copy\n",
      "  \"\"\"Entry point for launching an IPython kernel.\n"
     ]
    }
   ],
   "source": [
    "df_train['state']=np.where(df_train['state']=='successful',1,0)"
   ]
  },
  {
   "cell_type": "code",
   "execution_count": 334,
   "metadata": {},
   "outputs": [
    {
     "data": {
      "text/plain": [
       "0.5771874594696568"
      ]
     },
     "execution_count": 334,
     "metadata": {},
     "output_type": "execute_result"
    }
   ],
   "source": [
    "df_train.state.mean()"
   ]
  },
  {
   "cell_type": "code",
   "execution_count": 161,
   "metadata": {},
   "outputs": [
    {
     "data": {
      "text/plain": [
       "str"
      ]
     },
     "execution_count": 161,
     "metadata": {},
     "output_type": "execute_result"
    }
   ],
   "source": [
    "# Testing how to convert the unix time in df to UTC datetime\n",
    "from datetime import datetime\n",
    "test_unix=df_train.head(1).launched_at.values[0]\n",
    "\n",
    "# if you encounter a \"year is out of range\" error the timestamp\n",
    "# may be in milliseconds, try `ts /= 1000` in that case\n",
    "type(datetime.utcfromtimestamp(test_unix).strftime('%Y-%m-%d '))"
   ]
  },
  {
   "cell_type": "code",
   "execution_count": 162,
   "metadata": {},
   "outputs": [
    {
     "name": "stderr",
     "output_type": "stream",
     "text": [
      "C:\\Users\\Drago\\anaconda3\\lib\\site-packages\\ipykernel_launcher.py:1: SettingWithCopyWarning: \n",
      "A value is trying to be set on a copy of a slice from a DataFrame.\n",
      "Try using .loc[row_indexer,col_indexer] = value instead\n",
      "\n",
      "See the caveats in the documentation: https://pandas.pydata.org/pandas-docs/stable/user_guide/indexing.html#returning-a-view-versus-a-copy\n",
      "  \"\"\"Entry point for launching an IPython kernel.\n",
      "C:\\Users\\Drago\\anaconda3\\lib\\site-packages\\ipykernel_launcher.py:2: SettingWithCopyWarning: \n",
      "A value is trying to be set on a copy of a slice from a DataFrame.\n",
      "Try using .loc[row_indexer,col_indexer] = value instead\n",
      "\n",
      "See the caveats in the documentation: https://pandas.pydata.org/pandas-docs/stable/user_guide/indexing.html#returning-a-view-versus-a-copy\n",
      "  \n"
     ]
    },
    {
     "data": {
      "text/html": [
       "<div>\n",
       "<style scoped>\n",
       "    .dataframe tbody tr th:only-of-type {\n",
       "        vertical-align: middle;\n",
       "    }\n",
       "\n",
       "    .dataframe tbody tr th {\n",
       "        vertical-align: top;\n",
       "    }\n",
       "\n",
       "    .dataframe thead th {\n",
       "        text-align: right;\n",
       "    }\n",
       "</style>\n",
       "<table border=\"1\" class=\"dataframe\">\n",
       "  <thead>\n",
       "    <tr style=\"text-align: right;\">\n",
       "      <th></th>\n",
       "      <th>date_launched</th>\n",
       "      <th>date_ending</th>\n",
       "    </tr>\n",
       "    <tr>\n",
       "      <th>id</th>\n",
       "      <th></th>\n",
       "      <th></th>\n",
       "    </tr>\n",
       "  </thead>\n",
       "  <tbody>\n",
       "    <tr>\n",
       "      <th>1655941487</th>\n",
       "      <td>2019-03-31 19:55:50</td>\n",
       "      <td>2019-04-30 19:55:50</td>\n",
       "    </tr>\n",
       "    <tr>\n",
       "      <th>359915455</th>\n",
       "      <td>2013-09-03 22:40:05</td>\n",
       "      <td>2013-10-18 22:40:05</td>\n",
       "    </tr>\n",
       "    <tr>\n",
       "      <th>1859434546</th>\n",
       "      <td>2015-02-19 16:48:48</td>\n",
       "      <td>2015-03-21 15:48:48</td>\n",
       "    </tr>\n",
       "    <tr>\n",
       "      <th>1279967793</th>\n",
       "      <td>2016-06-10 12:00:41</td>\n",
       "      <td>2016-07-11 02:00:00</td>\n",
       "    </tr>\n",
       "    <tr>\n",
       "      <th>1340461995</th>\n",
       "      <td>2017-10-24 16:30:47</td>\n",
       "      <td>2017-11-23 17:30:47</td>\n",
       "    </tr>\n",
       "  </tbody>\n",
       "</table>\n",
       "</div>"
      ],
      "text/plain": [
       "                 date_launched         date_ending\n",
       "id                                                \n",
       "1655941487 2019-03-31 19:55:50 2019-04-30 19:55:50\n",
       "359915455  2013-09-03 22:40:05 2013-10-18 22:40:05\n",
       "1859434546 2015-02-19 16:48:48 2015-03-21 15:48:48\n",
       "1279967793 2016-06-10 12:00:41 2016-07-11 02:00:00\n",
       "1340461995 2017-10-24 16:30:47 2017-11-23 17:30:47"
      ]
     },
     "execution_count": 162,
     "metadata": {},
     "output_type": "execute_result"
    }
   ],
   "source": [
    "# Convert launch and end dates from unix/posix time to UTC time for all campaigns\n",
    "df_train['date_launched']= df_train.launched_at.apply(datetime.utcfromtimestamp)\n",
    "df_train['date_ending']= df_train.deadline.apply(datetime.utcfromtimestamp)\n",
    "df_train[['date_launched','date_ending']].head()"
   ]
  },
  {
   "cell_type": "code",
   "execution_count": 256,
   "metadata": {
    "collapsed": true
   },
   "outputs": [
    {
     "name": "stderr",
     "output_type": "stream",
     "text": [
      "C:\\Users\\Drago\\anaconda3\\lib\\site-packages\\ipykernel_launcher.py:3: SettingWithCopyWarning: \n",
      "A value is trying to be set on a copy of a slice from a DataFrame.\n",
      "Try using .loc[row_indexer,col_indexer] = value instead\n",
      "\n",
      "See the caveats in the documentation: https://pandas.pydata.org/pandas-docs/stable/user_guide/indexing.html#returning-a-view-versus-a-copy\n",
      "  This is separate from the ipykernel package so we can avoid doing imports until\n",
      "C:\\Users\\Drago\\anaconda3\\lib\\site-packages\\ipykernel_launcher.py:4: SettingWithCopyWarning: \n",
      "A value is trying to be set on a copy of a slice from a DataFrame.\n",
      "Try using .loc[row_indexer,col_indexer] = value instead\n",
      "\n",
      "See the caveats in the documentation: https://pandas.pydata.org/pandas-docs/stable/user_guide/indexing.html#returning-a-view-versus-a-copy\n",
      "  after removing the cwd from sys.path.\n",
      "C:\\Users\\Drago\\anaconda3\\lib\\site-packages\\ipykernel_launcher.py:6: SettingWithCopyWarning: \n",
      "A value is trying to be set on a copy of a slice from a DataFrame.\n",
      "Try using .loc[row_indexer,col_indexer] = value instead\n",
      "\n",
      "See the caveats in the documentation: https://pandas.pydata.org/pandas-docs/stable/user_guide/indexing.html#returning-a-view-versus-a-copy\n",
      "  \n",
      "C:\\Users\\Drago\\anaconda3\\lib\\site-packages\\ipykernel_launcher.py:7: SettingWithCopyWarning: \n",
      "A value is trying to be set on a copy of a slice from a DataFrame.\n",
      "Try using .loc[row_indexer,col_indexer] = value instead\n",
      "\n",
      "See the caveats in the documentation: https://pandas.pydata.org/pandas-docs/stable/user_guide/indexing.html#returning-a-view-versus-a-copy\n",
      "  import sys\n",
      "C:\\Users\\Drago\\anaconda3\\lib\\site-packages\\ipykernel_launcher.py:9: SettingWithCopyWarning: \n",
      "A value is trying to be set on a copy of a slice from a DataFrame.\n",
      "Try using .loc[row_indexer,col_indexer] = value instead\n",
      "\n",
      "See the caveats in the documentation: https://pandas.pydata.org/pandas-docs/stable/user_guide/indexing.html#returning-a-view-versus-a-copy\n",
      "  if __name__ == '__main__':\n",
      "C:\\Users\\Drago\\anaconda3\\lib\\site-packages\\ipykernel_launcher.py:10: SettingWithCopyWarning: \n",
      "A value is trying to be set on a copy of a slice from a DataFrame.\n",
      "Try using .loc[row_indexer,col_indexer] = value instead\n",
      "\n",
      "See the caveats in the documentation: https://pandas.pydata.org/pandas-docs/stable/user_guide/indexing.html#returning-a-view-versus-a-copy\n",
      "  # Remove the CWD from sys.path while we load stuff.\n"
     ]
    }
   ],
   "source": [
    "# parts=['year','month','day']\n",
    "# for part in parts:\n",
    "df_train['launch_year']=pd.DatetimeIndex(df_train.date_launched).year\n",
    "df_train['end_year']=pd.DatetimeIndex(df_train.date_ending).year\n",
    "\n",
    "df_train['launch_month']=pd.DatetimeIndex(df_train.date_launched).month\n",
    "df_train['end_month']=pd.DatetimeIndex(df_train.date_ending).month\n",
    "\n",
    "df_train['launch_day']=pd.DatetimeIndex(df_train.date_launched).day\n",
    "df_train['end_day']=pd.DatetimeIndex(df_train.date_ending).day"
   ]
  },
  {
   "cell_type": "code",
   "execution_count": 168,
   "metadata": {
    "collapsed": true
   },
   "outputs": [
    {
     "name": "stderr",
     "output_type": "stream",
     "text": [
      "C:\\Users\\Drago\\anaconda3\\lib\\site-packages\\ipykernel_launcher.py:1: SettingWithCopyWarning: \n",
      "A value is trying to be set on a copy of a slice from a DataFrame.\n",
      "Try using .loc[row_indexer,col_indexer] = value instead\n",
      "\n",
      "See the caveats in the documentation: https://pandas.pydata.org/pandas-docs/stable/user_guide/indexing.html#returning-a-view-versus-a-copy\n",
      "  \"\"\"Entry point for launching an IPython kernel.\n"
     ]
    }
   ],
   "source": [
    "# Make column to determine length of campaign in days\n",
    "df_train['length']=(df_train.date_ending-df_train.date_launched).apply(lambda x: x.days)"
   ]
  },
  {
   "cell_type": "code",
   "execution_count": 112,
   "metadata": {
    "collapsed": true
   },
   "outputs": [
    {
     "name": "stderr",
     "output_type": "stream",
     "text": [
      "C:\\Users\\Drago\\anaconda3\\lib\\site-packages\\ipykernel_launcher.py:1: SettingWithCopyWarning: \n",
      "A value is trying to be set on a copy of a slice from a DataFrame.\n",
      "Try using .loc[row_indexer,col_indexer] = value instead\n",
      "\n",
      "See the caveats in the documentation: https://pandas.pydata.org/pandas-docs/stable/user_guide/indexing.html#returning-a-view-versus-a-copy\n",
      "  \"\"\"Entry point for launching an IPython kernel.\n"
     ]
    },
    {
     "ename": "TypeError",
     "evalue": "unhashable type: 'dict'",
     "output_type": "error",
     "traceback": [
      "\u001b[1;31m---------------------------------------------------------------------------\u001b[0m",
      "\u001b[1;31mTypeError\u001b[0m                                 Traceback (most recent call last)",
      "\u001b[1;32m<ipython-input-112-61cfea2506b5>\u001b[0m in \u001b[0;36m<module>\u001b[1;34m\u001b[0m\n\u001b[0;32m      1\u001b[0m \u001b[0mdf_train\u001b[0m\u001b[1;33m[\u001b[0m\u001b[1;34m'category'\u001b[0m\u001b[1;33m]\u001b[0m\u001b[1;33m=\u001b[0m\u001b[0mdf_train\u001b[0m\u001b[1;33m[\u001b[0m\u001b[1;34m'category'\u001b[0m\u001b[1;33m]\u001b[0m\u001b[1;33m.\u001b[0m\u001b[0mapply\u001b[0m\u001b[1;33m(\u001b[0m\u001b[1;32mlambda\u001b[0m \u001b[0mx\u001b[0m\u001b[1;33m:\u001b[0m \u001b[0mast\u001b[0m\u001b[1;33m.\u001b[0m\u001b[0mliteral_eval\u001b[0m\u001b[1;33m(\u001b[0m\u001b[0mx\u001b[0m\u001b[1;33m)\u001b[0m\u001b[1;33m)\u001b[0m\u001b[1;33m\u001b[0m\u001b[1;33m\u001b[0m\u001b[0m\n\u001b[1;32m----> 2\u001b[1;33m \u001b[0mdf_train\u001b[0m\u001b[1;33m[\u001b[0m\u001b[1;34m'category'\u001b[0m\u001b[1;33m]\u001b[0m\u001b[1;33m.\u001b[0m\u001b[0munique\u001b[0m\u001b[1;33m(\u001b[0m\u001b[1;33m)\u001b[0m\u001b[1;33m[\u001b[0m\u001b[1;36m0\u001b[0m\u001b[1;33m]\u001b[0m\u001b[1;33m\u001b[0m\u001b[1;33m\u001b[0m\u001b[0m\n\u001b[0m",
      "\u001b[1;32m~\\anaconda3\\lib\\site-packages\\pandas\\core\\series.py\u001b[0m in \u001b[0;36munique\u001b[1;34m(self)\u001b[0m\n\u001b[0;32m   1814\u001b[0m         \u001b[0mCategories\u001b[0m \u001b[1;33m(\u001b[0m\u001b[1;36m3\u001b[0m\u001b[1;33m,\u001b[0m \u001b[0mobject\u001b[0m\u001b[1;33m)\u001b[0m\u001b[1;33m:\u001b[0m \u001b[1;33m[\u001b[0m\u001b[0ma\u001b[0m \u001b[1;33m<\u001b[0m \u001b[0mb\u001b[0m \u001b[1;33m<\u001b[0m \u001b[0mc\u001b[0m\u001b[1;33m]\u001b[0m\u001b[1;33m\u001b[0m\u001b[1;33m\u001b[0m\u001b[0m\n\u001b[0;32m   1815\u001b[0m         \"\"\"\n\u001b[1;32m-> 1816\u001b[1;33m         \u001b[0mresult\u001b[0m \u001b[1;33m=\u001b[0m \u001b[0msuper\u001b[0m\u001b[1;33m(\u001b[0m\u001b[1;33m)\u001b[0m\u001b[1;33m.\u001b[0m\u001b[0munique\u001b[0m\u001b[1;33m(\u001b[0m\u001b[1;33m)\u001b[0m\u001b[1;33m\u001b[0m\u001b[1;33m\u001b[0m\u001b[0m\n\u001b[0m\u001b[0;32m   1817\u001b[0m         \u001b[1;32mreturn\u001b[0m \u001b[0mresult\u001b[0m\u001b[1;33m\u001b[0m\u001b[1;33m\u001b[0m\u001b[0m\n\u001b[0;32m   1818\u001b[0m \u001b[1;33m\u001b[0m\u001b[0m\n",
      "\u001b[1;32m~\\anaconda3\\lib\\site-packages\\pandas\\core\\base.py\u001b[0m in \u001b[0;36munique\u001b[1;34m(self)\u001b[0m\n\u001b[0;32m   1244\u001b[0m             \u001b[0mresult\u001b[0m \u001b[1;33m=\u001b[0m \u001b[0mvalues\u001b[0m\u001b[1;33m.\u001b[0m\u001b[0munique\u001b[0m\u001b[1;33m(\u001b[0m\u001b[1;33m)\u001b[0m\u001b[1;33m\u001b[0m\u001b[1;33m\u001b[0m\u001b[0m\n\u001b[0;32m   1245\u001b[0m         \u001b[1;32melse\u001b[0m\u001b[1;33m:\u001b[0m\u001b[1;33m\u001b[0m\u001b[1;33m\u001b[0m\u001b[0m\n\u001b[1;32m-> 1246\u001b[1;33m             \u001b[0mresult\u001b[0m \u001b[1;33m=\u001b[0m \u001b[0munique1d\u001b[0m\u001b[1;33m(\u001b[0m\u001b[0mvalues\u001b[0m\u001b[1;33m)\u001b[0m\u001b[1;33m\u001b[0m\u001b[1;33m\u001b[0m\u001b[0m\n\u001b[0m\u001b[0;32m   1247\u001b[0m \u001b[1;33m\u001b[0m\u001b[0m\n\u001b[0;32m   1248\u001b[0m         \u001b[1;32mreturn\u001b[0m \u001b[0mresult\u001b[0m\u001b[1;33m\u001b[0m\u001b[1;33m\u001b[0m\u001b[0m\n",
      "\u001b[1;32m~\\anaconda3\\lib\\site-packages\\pandas\\core\\algorithms.py\u001b[0m in \u001b[0;36munique\u001b[1;34m(values)\u001b[0m\n\u001b[0;32m    380\u001b[0m \u001b[1;33m\u001b[0m\u001b[0m\n\u001b[0;32m    381\u001b[0m     \u001b[0mtable\u001b[0m \u001b[1;33m=\u001b[0m \u001b[0mhtable\u001b[0m\u001b[1;33m(\u001b[0m\u001b[0mlen\u001b[0m\u001b[1;33m(\u001b[0m\u001b[0mvalues\u001b[0m\u001b[1;33m)\u001b[0m\u001b[1;33m)\u001b[0m\u001b[1;33m\u001b[0m\u001b[1;33m\u001b[0m\u001b[0m\n\u001b[1;32m--> 382\u001b[1;33m     \u001b[0muniques\u001b[0m \u001b[1;33m=\u001b[0m \u001b[0mtable\u001b[0m\u001b[1;33m.\u001b[0m\u001b[0munique\u001b[0m\u001b[1;33m(\u001b[0m\u001b[0mvalues\u001b[0m\u001b[1;33m)\u001b[0m\u001b[1;33m\u001b[0m\u001b[1;33m\u001b[0m\u001b[0m\n\u001b[0m\u001b[0;32m    383\u001b[0m     \u001b[0muniques\u001b[0m \u001b[1;33m=\u001b[0m \u001b[0m_reconstruct_data\u001b[0m\u001b[1;33m(\u001b[0m\u001b[0muniques\u001b[0m\u001b[1;33m,\u001b[0m \u001b[0moriginal\u001b[0m\u001b[1;33m.\u001b[0m\u001b[0mdtype\u001b[0m\u001b[1;33m,\u001b[0m \u001b[0moriginal\u001b[0m\u001b[1;33m)\u001b[0m\u001b[1;33m\u001b[0m\u001b[1;33m\u001b[0m\u001b[0m\n\u001b[0;32m    384\u001b[0m     \u001b[1;32mreturn\u001b[0m \u001b[0muniques\u001b[0m\u001b[1;33m\u001b[0m\u001b[1;33m\u001b[0m\u001b[0m\n",
      "\u001b[1;32mpandas\\_libs\\hashtable_class_helper.pxi\u001b[0m in \u001b[0;36mpandas._libs.hashtable.PyObjectHashTable.unique\u001b[1;34m()\u001b[0m\n",
      "\u001b[1;32mpandas\\_libs\\hashtable_class_helper.pxi\u001b[0m in \u001b[0;36mpandas._libs.hashtable.PyObjectHashTable._unique\u001b[1;34m()\u001b[0m\n",
      "\u001b[1;31mTypeError\u001b[0m: unhashable type: 'dict'"
     ]
    }
   ],
   "source": [
    "# Convert dictionary in string to dictionary\n",
    "df_train['category']=df_train['category'].apply(lambda x: ast.literal_eval(x))\n",
    "df_train['category'].unique()[0]"
   ]
  },
  {
   "cell_type": "code",
   "execution_count": 133,
   "metadata": {
    "collapsed": true
   },
   "outputs": [
    {
     "name": "stderr",
     "output_type": "stream",
     "text": [
      "C:\\Users\\Drago\\anaconda3\\lib\\site-packages\\ipykernel_launcher.py:4: SettingWithCopyWarning: \n",
      "A value is trying to be set on a copy of a slice from a DataFrame.\n",
      "Try using .loc[row_indexer,col_indexer] = value instead\n",
      "\n",
      "See the caveats in the documentation: https://pandas.pydata.org/pandas-docs/stable/user_guide/indexing.html#returning-a-view-versus-a-copy\n",
      "  after removing the cwd from sys.path.\n",
      "C:\\Users\\Drago\\anaconda3\\lib\\site-packages\\ipykernel_launcher.py:5: SettingWithCopyWarning: \n",
      "A value is trying to be set on a copy of a slice from a DataFrame.\n",
      "Try using .loc[row_indexer,col_indexer] = value instead\n",
      "\n",
      "See the caveats in the documentation: https://pandas.pydata.org/pandas-docs/stable/user_guide/indexing.html#returning-a-view-versus-a-copy\n",
      "  \"\"\"\n"
     ]
    },
    {
     "data": {
      "text/html": [
       "<div>\n",
       "<style scoped>\n",
       "    .dataframe tbody tr th:only-of-type {\n",
       "        vertical-align: middle;\n",
       "    }\n",
       "\n",
       "    .dataframe tbody tr th {\n",
       "        vertical-align: top;\n",
       "    }\n",
       "\n",
       "    .dataframe thead th {\n",
       "        text-align: right;\n",
       "    }\n",
       "</style>\n",
       "<table border=\"1\" class=\"dataframe\">\n",
       "  <thead>\n",
       "    <tr style=\"text-align: right;\">\n",
       "      <th></th>\n",
       "      <th>category_name</th>\n",
       "      <th>subcategory_name</th>\n",
       "    </tr>\n",
       "    <tr>\n",
       "      <th>id</th>\n",
       "      <th></th>\n",
       "      <th></th>\n",
       "    </tr>\n",
       "  </thead>\n",
       "  <tbody>\n",
       "    <tr>\n",
       "      <th>1655941487</th>\n",
       "      <td>Games</td>\n",
       "      <td>Video Games</td>\n",
       "    </tr>\n",
       "    <tr>\n",
       "      <th>359915455</th>\n",
       "      <td>Music</td>\n",
       "      <td>Jazz</td>\n",
       "    </tr>\n",
       "    <tr>\n",
       "      <th>1859434546</th>\n",
       "      <td>Food</td>\n",
       "      <td>Small Batch</td>\n",
       "    </tr>\n",
       "    <tr>\n",
       "      <th>1279967793</th>\n",
       "      <td>Publishing</td>\n",
       "      <td>Art Books</td>\n",
       "    </tr>\n",
       "    <tr>\n",
       "      <th>1340461995</th>\n",
       "      <td>Technology</td>\n",
       "      <td>Software</td>\n",
       "    </tr>\n",
       "  </tbody>\n",
       "</table>\n",
       "</div>"
      ],
      "text/plain": [
       "           category_name subcategory_name\n",
       "id                                       \n",
       "1655941487         Games      Video Games\n",
       "359915455          Music             Jazz\n",
       "1859434546          Food      Small Batch\n",
       "1279967793    Publishing        Art Books\n",
       "1340461995    Technology         Software"
      ]
     },
     "execution_count": 133,
     "metadata": {},
     "output_type": "execute_result"
    }
   ],
   "source": [
    "\n",
    "# Extract name of subcategory and parent category from dictionary in category column\n",
    "df_train['subcategory_name']=df_train.category.apply(lambda x: x['name'])\n",
    "df_train['category_name']=df_train.category.apply(lambda x: x['parent_name'] if 'parent_name'in x.keys() else x['name'])\n",
    "df_train[['category_name','subcategory_name']].head()"
   ]
  },
  {
   "cell_type": "code",
   "execution_count": 134,
   "metadata": {},
   "outputs": [
    {
     "name": "stdout",
     "output_type": "stream",
     "text": [
      "15\n",
      "159\n"
     ]
    }
   ],
   "source": [
    "print(len(df_train.category_name.unique()))\n",
    "print(len(df_train.subcategory_name.unique()))"
   ]
  },
  {
   "cell_type": "code",
   "execution_count": 174,
   "metadata": {},
   "outputs": [
    {
     "data": {
      "text/plain": [
       "<matplotlib.axes._subplots.AxesSubplot at 0x249ee2bbd08>"
      ]
     },
     "execution_count": 174,
     "metadata": {},
     "output_type": "execute_result"
    },
    {
     "data": {
      "image/png": "[encoded data removed]",
      "text/plain": [
       "<Figure size 720x432 with 1 Axes>"
      ]
     },
     "metadata": {
      "needs_background": "light"
     },
     "output_type": "display_data"
    }
   ],
   "source": [
    "df_train.groupby('category_name')['state'].mean().plot(kind='bar', figsize=(10,6),title='Percent Successful by Category')\n",
    "\n",
    "#df_train.plot()"
   ]
  },
  {
   "cell_type": "code",
   "execution_count": 220,
   "metadata": {
    "collapsed": true
   },
   "outputs": [
    {
     "name": "stderr",
     "output_type": "stream",
     "text": [
      "C:\\Users\\Drago\\anaconda3\\lib\\site-packages\\pandas\\core\\generic.py:6245: SettingWithCopyWarning: \n",
      "A value is trying to be set on a copy of a slice from a DataFrame\n",
      "\n",
      "See the caveats in the documentation: https://pandas.pydata.org/pandas-docs/stable/user_guide/indexing.html#returning-a-view-versus-a-copy\n",
      "  self._update_inplace(new_data)\n",
      "C:\\Users\\Drago\\anaconda3\\lib\\site-packages\\ipykernel_launcher.py:2: SettingWithCopyWarning: \n",
      "A value is trying to be set on a copy of a slice from a DataFrame.\n",
      "Try using .loc[row_indexer,col_indexer] = value instead\n",
      "\n",
      "See the caveats in the documentation: https://pandas.pydata.org/pandas-docs/stable/user_guide/indexing.html#returning-a-view-versus-a-copy\n",
      "  \n"
     ]
    },
    {
     "data": {
      "text/plain": [
       "id\n",
       "1655941487     8\n",
       "359915455     22\n",
       "1859434546    21\n",
       "1279967793    18\n",
       "1340461995    25\n",
       "Name: blurb_words, dtype: int64"
      ]
     },
     "execution_count": 220,
     "metadata": {},
     "output_type": "execute_result"
    }
   ],
   "source": [
    "# Replace null values in blurb column with empty string\n",
    "df_train.blurb.fillna('',inplace=True)\n",
    "# Make column showing how many words were in each blurb\n",
    "df_train['blurb_words']=df_train.blurb.apply(lambda x: len(x.split()))\n",
    "df_train.blurb_words.head()"
   ]
  },
  {
   "cell_type": "code",
   "execution_count": 232,
   "metadata": {
    "collapsed": true
   },
   "outputs": [
    {
     "name": "stderr",
     "output_type": "stream",
     "text": [
      "C:\\Users\\Drago\\anaconda3\\lib\\site-packages\\ipykernel_launcher.py:2: SettingWithCopyWarning: \n",
      "A value is trying to be set on a copy of a slice from a DataFrame.\n",
      "Try using .loc[row_indexer,col_indexer] = value instead\n",
      "\n",
      "See the caveats in the documentation: https://pandas.pydata.org/pandas-docs/stable/user_guide/indexing.html#returning-a-view-versus-a-copy\n",
      "  \n"
     ]
    }
   ],
   "source": [
    "# Convert all Goal amounts to USD to standardize them\n",
    "df_train['goal']=np.where(df_train.currency!='USD',df_train.goal*df_train.static_usd_rate,df_train.goal)"
   ]
  },
  {
   "cell_type": "code",
   "execution_count": 110,
   "metadata": {},
   "outputs": [
    {
     "data": {
      "text/plain": [
       "Index(['backers_count', 'blurb', 'category', 'converted_pledged_amount',\n",
       "       'country', 'country_displayable_name', 'created_at', 'creator',\n",
       "       'currency', 'currency_symbol', 'currency_trailing_code',\n",
       "       'current_currency', 'deadline', 'disable_communication', 'friends',\n",
       "       'fx_rate', 'goal', 'is_backing', 'is_starrable', 'is_starred',\n",
       "       'launched_at', 'location', 'name', 'permissions', 'photo', 'pledged',\n",
       "       'profile', 'slug', 'source_url', 'spotlight', 'staff_pick', 'state',\n",
       "       'state_changed_at', 'static_usd_rate', 'urls', 'usd_pledged',\n",
       "       'usd_type'],\n",
       "      dtype='object')"
      ]
     },
     "execution_count": 110,
     "metadata": {},
     "output_type": "execute_result"
    }
   ],
   "source": [
    "df_train.columns"
   ]
  },
  {
   "cell_type": "code",
   "execution_count": 149,
   "metadata": {},
   "outputs": [
    {
     "data": {
      "text/html": [
       "<div>\n",
       "<style scoped>\n",
       "    .dataframe tbody tr th:only-of-type {\n",
       "        vertical-align: middle;\n",
       "    }\n",
       "\n",
       "    .dataframe tbody tr th {\n",
       "        vertical-align: top;\n",
       "    }\n",
       "\n",
       "    .dataframe thead th {\n",
       "        text-align: right;\n",
       "    }\n",
       "</style>\n",
       "<table border=\"1\" class=\"dataframe\">\n",
       "  <thead>\n",
       "    <tr style=\"text-align: right;\">\n",
       "      <th></th>\n",
       "      <th>state</th>\n",
       "      <th>backers_count</th>\n",
       "      <th>converted_pledged_amount</th>\n",
       "      <th>current_currency</th>\n",
       "      <th>is_backing</th>\n",
       "      <th>pledged</th>\n",
       "      <th>usd_pledged</th>\n",
       "      <th>created_at</th>\n",
       "      <th>launched_at</th>\n",
       "      <th>deadline</th>\n",
       "    </tr>\n",
       "    <tr>\n",
       "      <th>id</th>\n",
       "      <th></th>\n",
       "      <th></th>\n",
       "      <th></th>\n",
       "      <th></th>\n",
       "      <th></th>\n",
       "      <th></th>\n",
       "      <th></th>\n",
       "      <th></th>\n",
       "      <th></th>\n",
       "      <th></th>\n",
       "    </tr>\n",
       "  </thead>\n",
       "  <tbody>\n",
       "    <tr>\n",
       "      <th>1655941487</th>\n",
       "      <td>successful</td>\n",
       "      <td>76</td>\n",
       "      <td>697</td>\n",
       "      <td>USD</td>\n",
       "      <td>NaN</td>\n",
       "      <td>697.0</td>\n",
       "      <td>697.0</td>\n",
       "      <td>1541608918</td>\n",
       "      <td>1554062150</td>\n",
       "      <td>1556654150</td>\n",
       "    </tr>\n",
       "    <tr>\n",
       "      <th>359915455</th>\n",
       "      <td>failed</td>\n",
       "      <td>6</td>\n",
       "      <td>440</td>\n",
       "      <td>USD</td>\n",
       "      <td>NaN</td>\n",
       "      <td>440.0</td>\n",
       "      <td>440.0</td>\n",
       "      <td>1377505616</td>\n",
       "      <td>1378248005</td>\n",
       "      <td>1382136005</td>\n",
       "    </tr>\n",
       "    <tr>\n",
       "      <th>1859434546</th>\n",
       "      <td>failed</td>\n",
       "      <td>2</td>\n",
       "      <td>40</td>\n",
       "      <td>USD</td>\n",
       "      <td>NaN</td>\n",
       "      <td>40.0</td>\n",
       "      <td>40.0</td>\n",
       "      <td>1424288631</td>\n",
       "      <td>1424364528</td>\n",
       "      <td>1426952928</td>\n",
       "    </tr>\n",
       "    <tr>\n",
       "      <th>1279967793</th>\n",
       "      <td>successful</td>\n",
       "      <td>73</td>\n",
       "      <td>11192</td>\n",
       "      <td>USD</td>\n",
       "      <td>NaN</td>\n",
       "      <td>11192.0</td>\n",
       "      <td>11192.0</td>\n",
       "      <td>1463615618</td>\n",
       "      <td>1465560041</td>\n",
       "      <td>1468202400</td>\n",
       "    </tr>\n",
       "    <tr>\n",
       "      <th>1340461995</th>\n",
       "      <td>failed</td>\n",
       "      <td>0</td>\n",
       "      <td>0</td>\n",
       "      <td>USD</td>\n",
       "      <td>NaN</td>\n",
       "      <td>0.0</td>\n",
       "      <td>0.0</td>\n",
       "      <td>1508774685</td>\n",
       "      <td>1508862647</td>\n",
       "      <td>1511458247</td>\n",
       "    </tr>\n",
       "  </tbody>\n",
       "</table>\n",
       "</div>"
      ],
      "text/plain": [
       "                 state  backers_count  converted_pledged_amount  \\\n",
       "id                                                                \n",
       "1655941487  successful             76                       697   \n",
       "359915455       failed              6                       440   \n",
       "1859434546      failed              2                        40   \n",
       "1279967793  successful             73                     11192   \n",
       "1340461995      failed              0                         0   \n",
       "\n",
       "           current_currency is_backing  pledged  usd_pledged  created_at  \\\n",
       "id                                                                         \n",
       "1655941487              USD        NaN    697.0        697.0  1541608918   \n",
       "359915455               USD        NaN    440.0        440.0  1377505616   \n",
       "1859434546              USD        NaN     40.0         40.0  1424288631   \n",
       "1279967793              USD        NaN  11192.0      11192.0  1463615618   \n",
       "1340461995              USD        NaN      0.0          0.0  1508774685   \n",
       "\n",
       "            launched_at    deadline  \n",
       "id                                   \n",
       "1655941487   1554062150  1556654150  \n",
       "359915455    1378248005  1382136005  \n",
       "1859434546   1424364528  1426952928  \n",
       "1279967793   1465560041  1468202400  \n",
       "1340461995   1508862647  1511458247  "
      ]
     },
     "execution_count": 149,
     "metadata": {},
     "output_type": "execute_result"
    }
   ],
   "source": [
    "df_train[['state','backers_count','converted_pledged_amount','current_currency',\n",
    "          'is_backing','pledged','usd_pledged','created_at','launched_at','deadline']].head()"
   ]
  },
  {
   "cell_type": "code",
   "execution_count": 222,
   "metadata": {
    "collapsed": true
   },
   "outputs": [
    {
     "data": {
      "text/plain": [
       "backers_count               0.000000\n",
       "blurb                       0.000000\n",
       "category                    0.000000\n",
       "converted_pledged_amount    0.000000\n",
       "country                     0.000000\n",
       "country_displayable_name    0.000000\n",
       "created_at                  0.000000\n",
       "creator                     0.000000\n",
       "currency                    0.000000\n",
       "currency_symbol             0.000000\n",
       "currency_trailing_code      0.000000\n",
       "current_currency            0.000000\n",
       "deadline                    0.000000\n",
       "disable_communication       0.000000\n",
       "friends                     1.000000\n",
       "fx_rate                     0.000000\n",
       "goal                        0.000000\n",
       "is_backing                  1.000000\n",
       "is_starrable                0.000000\n",
       "is_starred                  1.000000\n",
       "launched_at                 0.000000\n",
       "location                    0.001049\n",
       "name                        0.000000\n",
       "permissions                 1.000000\n",
       "photo                       0.000000\n",
       "pledged                     0.000000\n",
       "profile                     0.000000\n",
       "slug                        0.000000\n",
       "source_url                  0.000000\n",
       "spotlight                   0.000000\n",
       "staff_pick                  0.000000\n",
       "state                       0.000000\n",
       "state_changed_at            0.000000\n",
       "static_usd_rate             0.000000\n",
       "urls                        0.000000\n",
       "usd_pledged                 0.000000\n",
       "usd_type                    0.000560\n",
       "subcategory_name            0.000000\n",
       "category_name               0.000000\n",
       "date_launched               0.000000\n",
       "date_ending                 0.000000\n",
       "length                      0.000000\n",
       "blurb_words                 0.000000\n",
       "dtype: float64"
      ]
     },
     "execution_count": 222,
     "metadata": {},
     "output_type": "execute_result"
    }
   ],
   "source": [
    "df_train.isnull().mean()"
   ]
  },
  {
   "cell_type": "code",
   "execution_count": 262,
   "metadata": {},
   "outputs": [],
   "source": [
    "df_final=df_train.drop(columns=['creator','backers_count','category','converted_pledged_amount','country_displayable_name',\n",
    "                                'currency_symbol','currency_trailing_code','current_currency','disable_communication','blurb',\n",
    "                                'friends','fx_rate','is_backing','is_starrable','is_starred','location','name','permissions',\n",
    "                                'photo','pledged','profile','slug','state_changed_at','static_usd_rate','urls','source_url',\n",
    "                                'usd_pledged','usd_type','date_launched','date_ending'])"
   ]
  },
  {
   "cell_type": "code",
   "execution_count": 289,
   "metadata": {},
   "outputs": [
    {
     "data": {
      "text/plain": [
       "Index(['country', 'created_at', 'currency', 'deadline', 'goal', 'staff_pick',\n",
       "       'state', 'subcategory_name', 'category_name', 'length', 'blurb_words',\n",
       "       'launch_year', 'launch_month', 'end_month', 'launch_day', 'end_day'],\n",
       "      dtype='object')"
      ]
     },
     "execution_count": 289,
     "metadata": {},
     "output_type": "execute_result"
    }
   ],
   "source": [
    "df_final.columns"
   ]
  },
  {
   "cell_type": "code",
   "execution_count": 343,
   "metadata": {},
   "outputs": [],
   "source": [
    "df_dummies=pd.get_dummies(df_final.drop(columns=['subcategory_name']), columns = ['country','currency','category_name'],drop_first=True)"
   ]
  },
  {
   "cell_type": "code",
   "execution_count": 344,
   "metadata": {},
   "outputs": [
    {
     "data": {
      "text/plain": [
       "Index(['created_at', 'deadline', 'goal', 'staff_pick', 'state', 'length',\n",
       "       'blurb_words', 'launch_year', 'launch_month', 'end_month', 'launch_day',\n",
       "       'end_day', 'country_AU', 'country_BE', 'country_CA', 'country_CH',\n",
       "       'country_DE', 'country_DK', 'country_ES', 'country_FR', 'country_GB',\n",
       "       'country_HK', 'country_IE', 'country_IT', 'country_JP', 'country_LU',\n",
       "       'country_MX', 'country_NL', 'country_NO', 'country_NZ', 'country_SE',\n",
       "       'country_SG', 'country_US', 'currency_CAD', 'currency_CHF',\n",
       "       'currency_DKK', 'currency_EUR', 'currency_GBP', 'currency_HKD',\n",
       "       'currency_JPY', 'currency_MXN', 'currency_NOK', 'currency_NZD',\n",
       "       'currency_SEK', 'currency_SGD', 'currency_USD', 'category_name_Comics',\n",
       "       'category_name_Crafts', 'category_name_Dance', 'category_name_Design',\n",
       "       'category_name_Fashion', 'category_name_Film & Video',\n",
       "       'category_name_Food', 'category_name_Games', 'category_name_Journalism',\n",
       "       'category_name_Music', 'category_name_Photography',\n",
       "       'category_name_Publishing', 'category_name_Technology',\n",
       "       'category_name_Theater'],\n",
       "      dtype='object')"
      ]
     },
     "execution_count": 344,
     "metadata": {},
     "output_type": "execute_result"
    }
   ],
   "source": [
    "df_dummies.columns"
   ]
  },
  {
   "cell_type": "code",
   "execution_count": 277,
   "metadata": {},
   "outputs": [
    {
     "data": {
      "text/plain": [
       "<matplotlib.axes._subplots.AxesSubplot at 0x24a00ae41c8>"
      ]
     },
     "execution_count": 277,
     "metadata": {},
     "output_type": "execute_result"
    },
    {
     "data": {
      "image/png": "[encoded data removed]",
      "text/plain": [
       "<Figure size 432x288 with 1 Axes>"
      ]
     },
     "metadata": {
      "needs_background": "light"
     },
     "output_type": "display_data"
    }
   ],
   "source": [
    "df_final.groupby('launch_year')['state'].mean().sort_values().plot.bar()\n"
   ]
  },
  {
   "cell_type": "code",
   "execution_count": 278,
   "metadata": {},
   "outputs": [
    {
     "data": {
      "text/plain": [
       "<matplotlib.axes._subplots.AxesSubplot at 0x24a037fe688>"
      ]
     },
     "execution_count": 278,
     "metadata": {},
     "output_type": "execute_result"
    },
    {
     "data": {
      "image/png": "[encoded data removed]",
      "text/plain": [
       "<Figure size 432x288 with 1 Axes>"
      ]
     },
     "metadata": {
      "needs_background": "light"
     },
     "output_type": "display_data"
    }
   ],
   "source": [
    "df_final.groupby('end_year')['state'].mean().sort_values().plot.bar()"
   ]
  },
  {
   "cell_type": "code",
   "execution_count": 276,
   "metadata": {},
   "outputs": [
    {
     "data": {
      "text/plain": [
       "<matplotlib.axes._subplots.AxesSubplot at 0x24a00a4d408>"
      ]
     },
     "execution_count": 276,
     "metadata": {},
     "output_type": "execute_result"
    },
    {
     "data": {
      "image/png": "[encoded data removed]",
      "text/plain": [
       "<Figure size 432x288 with 2 Axes>"
      ]
     },
     "metadata": {
      "needs_background": "light"
     },
     "output_type": "display_data"
    }
   ],
   "source": [
    "sns.heatmap(df_final.corr()[df_final.corr()>0.85])"
   ]
  },
  {
   "cell_type": "code",
   "execution_count": 283,
   "metadata": {},
   "outputs": [
    {
     "data": {
      "text/plain": [
       "<matplotlib.axes._subplots.AxesSubplot at 0x24a06f1e848>"
      ]
     },
     "execution_count": 283,
     "metadata": {},
     "output_type": "execute_result"
    },
    {
     "data": {
      "image/png": "[encoded data removed]",
      "text/plain": [
       "<Figure size 432x288 with 2 Axes>"
      ]
     },
     "metadata": {
      "needs_background": "light"
     },
     "output_type": "display_data"
    }
   ],
   "source": [
    "corr=df_final.drop(columns=['launched_at','end_year','spotlight']).corr()\n",
    "sns.heatmap(corr[corr>0.85])"
   ]
  },
  {
   "cell_type": "code",
   "execution_count": 285,
   "metadata": {},
   "outputs": [],
   "source": [
    "df_final.drop(columns=['launched_at','end_year','spotlight'],inplace=True)"
   ]
  },
  {
   "cell_type": "code",
   "execution_count": 294,
   "metadata": {},
   "outputs": [
    {
     "data": {
      "text/plain": [
       "length\n",
       "60    0.308435\n",
       "59    0.354759\n",
       "64    0.375000\n",
       "85    0.400000\n",
       "58    0.424184\n",
       "        ...   \n",
       "79    1.000000\n",
       "77    1.000000\n",
       "67    1.000000\n",
       "82    1.000000\n",
       "97    1.000000\n",
       "Name: state, Length: 92, dtype: float64"
      ]
     },
     "execution_count": 294,
     "metadata": {},
     "output_type": "execute_result"
    }
   ],
   "source": [
    "df_final.groupby('length')['state'].mean().sort_values()#.plot.bar()"
   ]
  },
  {
   "cell_type": "code",
   "execution_count": 297,
   "metadata": {},
   "outputs": [
    {
     "name": "stdout",
     "output_type": "stream",
     "text": [
      "<class 'pandas.core.frame.DataFrame'>\n",
      "Int64Index: 169626 entries, 1655941487 to 1731611971\n",
      "Data columns (total 16 columns):\n",
      " #   Column            Non-Null Count   Dtype  \n",
      "---  ------            --------------   -----  \n",
      " 0   country           169626 non-null  object \n",
      " 1   created_at        169626 non-null  int64  \n",
      " 2   currency          169626 non-null  object \n",
      " 3   deadline          169626 non-null  int64  \n",
      " 4   goal              169626 non-null  float64\n",
      " 5   staff_pick        169626 non-null  bool   \n",
      " 6   state             169626 non-null  int32  \n",
      " 7   subcategory_name  169626 non-null  object \n",
      " 8   category_name     169626 non-null  object \n",
      " 9   length            169626 non-null  int64  \n",
      " 10  blurb_words       169626 non-null  int64  \n",
      " 11  launch_year       169626 non-null  int64  \n",
      " 12  launch_month      169626 non-null  int64  \n",
      " 13  end_month         169626 non-null  int64  \n",
      " 14  launch_day        169626 non-null  int64  \n",
      " 15  end_day           169626 non-null  int64  \n",
      "dtypes: bool(1), float64(1), int32(1), int64(9), object(4)\n",
      "memory usage: 25.2+ MB\n"
     ]
    }
   ],
   "source": [
    "df_final.info()"
   ]
  },
  {
   "cell_type": "code",
   "execution_count": 286,
   "metadata": {},
   "outputs": [],
   "source": [
    "y=df_final.state\n",
    "X=df_final.drop(columns=['state'])"
   ]
  },
  {
   "cell_type": "code",
   "execution_count": 345,
   "metadata": {},
   "outputs": [],
   "source": [
    "X_d=df_dummies.drop(columns=['state'])"
   ]
  },
  {
   "cell_type": "code",
   "execution_count": 295,
   "metadata": {},
   "outputs": [],
   "source": [
    "#Train Test splitting\n",
    "X_train, X_test, y_train, y_test = train_test_split(X, y, random_state=23,stratify=y)"
   ]
  },
  {
   "cell_type": "code",
   "execution_count": 346,
   "metadata": {},
   "outputs": [],
   "source": [
    "X_dtrain, X_dtest, y_train, y_test = train_test_split(X_d, y, random_state=23,stratify=y)"
   ]
  },
  {
   "cell_type": "code",
   "execution_count": 347,
   "metadata": {},
   "outputs": [],
   "source": [
    "# Scaling data\n",
    "scaler = StandardScaler()  \n",
    "scaler.fit(X_dtrain)\n",
    "\n",
    "X_scale_train = scaler.transform(X_dtrain)  \n",
    "X_scale_test = scaler.transform(X_dtest)"
   ]
  },
  {
   "cell_type": "code",
   "execution_count": null,
   "metadata": {},
   "outputs": [],
   "source": []
  },
  {
   "cell_type": "markdown",
   "metadata": {},
   "source": [
    "## Random Forest"
   ]
  },
  {
   "cell_type": "code",
   "execution_count": 348,
   "metadata": {
    "scrolled": true
   },
   "outputs": [
    {
     "data": {
      "text/plain": [
       "RandomForestClassifier(bootstrap=True, ccp_alpha=0.0, class_weight='balanced',\n",
       "                       criterion='gini', max_depth=3, max_features='auto',\n",
       "                       max_leaf_nodes=None, max_samples=None,\n",
       "                       min_impurity_decrease=0.0, min_impurity_split=None,\n",
       "                       min_samples_leaf=1, min_samples_split=2,\n",
       "                       min_weight_fraction_leaf=0.0, n_estimators=100,\n",
       "                       n_jobs=None, oob_score=False, random_state=17, verbose=0,\n",
       "                       warm_start=False)"
      ]
     },
     "execution_count": 348,
     "metadata": {},
     "output_type": "execute_result"
    }
   ],
   "source": [
    "rfc=RandomForestClassifier(class_weight='balanced',random_state=17,max_depth=3)\n",
    "rfc.fit(X_dtrain,y_train)"
   ]
  },
  {
   "cell_type": "code",
   "execution_count": 349,
   "metadata": {},
   "outputs": [
    {
     "name": "stdout",
     "output_type": "stream",
     "text": [
      "Accuracy: 0.6992006036739218\n",
      "F1 Score: 0.709747883862747\n"
     ]
    }
   ],
   "source": [
    "y_pred=rfc.predict(X_dtest)\n",
    "\n",
    "print('Accuracy:',accuracy_score(y_test,y_pred))\n",
    "print('F1 Score:',f1_score(y_test,y_pred))"
   ]
  },
  {
   "cell_type": "code",
   "execution_count": 350,
   "metadata": {
    "scrolled": true
   },
   "outputs": [
    {
     "data": {
      "text/plain": [
       "RandomForestClassifier(bootstrap=True, ccp_alpha=0.0, class_weight='balanced',\n",
       "                       criterion='gini', max_depth=3, max_features='auto',\n",
       "                       max_leaf_nodes=None, max_samples=None,\n",
       "                       min_impurity_decrease=0.0, min_impurity_split=None,\n",
       "                       min_samples_leaf=1, min_samples_split=2,\n",
       "                       min_weight_fraction_leaf=0.0, n_estimators=100,\n",
       "                       n_jobs=None, oob_score=False, random_state=17, verbose=0,\n",
       "                       warm_start=False)"
      ]
     },
     "execution_count": 350,
     "metadata": {},
     "output_type": "execute_result"
    }
   ],
   "source": [
    "rfcs=RandomForestClassifier(class_weight='balanced',random_state=17,max_depth=3)\n",
    "rfcs.fit(X_scale_train,y_train)"
   ]
  },
  {
   "cell_type": "code",
   "execution_count": 351,
   "metadata": {},
   "outputs": [
    {
     "name": "stdout",
     "output_type": "stream",
     "text": [
      "Accuracy: 0.6992006036739218\n",
      "F1 Score: 0.709747883862747\n"
     ]
    }
   ],
   "source": [
    "y_pred_scale=rfcs.predict(X_scale_test)\n",
    "\n",
    "print('Accuracy:',accuracy_score(y_test,y_pred_scale))\n",
    "print('F1 Score:',f1_score(y_test,y_pred_scale))"
   ]
  },
  {
   "cell_type": "code",
   "execution_count": 370,
   "metadata": {},
   "outputs": [
    {
     "name": "stdout",
     "output_type": "stream",
     "text": [
      "         Feature  Importance\n",
      "29    country_SE    0.000000\n",
      "42  currency_SEK    0.000000\n",
      "41  currency_NZD    0.000000\n",
      "38  currency_JPY    0.000000\n",
      "34  currency_DKK    0.000000\n",
      "20    country_HK    0.000000\n",
      "27    country_NO    0.000000\n",
      "30    country_SG    0.000000\n",
      "18    country_FR    0.000000\n",
      "17    country_ES    0.000000\n",
      "23    country_JP    0.000000\n",
      "14    country_CH    0.000000\n",
      "16    country_DK    0.000000\n",
      "40  currency_NOK    0.000067\n",
      "43  currency_SGD    0.000326\n",
      "13    country_CA    0.000579\n",
      "12    country_BE    0.000633\n",
      "28    country_NZ    0.000681\n",
      "21    country_IE    0.000751\n",
      "33  currency_CHF    0.001452\n"
     ]
    },
    {
     "data": {
      "image/png": "[encoded data removed]",
      "text/plain": [
       "<Figure size 432x288 with 1 Axes>"
      ]
     },
     "metadata": {
      "needs_background": "light"
     },
     "output_type": "display_data"
    }
   ],
   "source": [
    "# get importance\n",
    "importances = rfc.feature_importances_\n",
    "# summarize feature importance\n",
    "featureImp=[]\n",
    "for feat, importance in zip(X_dtrain.columns, importances):  \n",
    "    temp = [feat, importance*100]\n",
    "    featureImp.append(temp)\n",
    "\n",
    "rfc_importance = pd.DataFrame(featureImp, columns = ['Feature', 'Importance'])\n",
    "print (rfc_importance.sort_values('Importance').head(20))\n",
    "# for i,v in enumerate(importances):\n",
    "# \tprint('Feature: %0d, Score: %.5f' % (i,v))\n",
    "# plot feature importance\n",
    "plt.bar([x for x in range(len(importances))], importances)\n",
    "plt.show()"
   ]
  },
  {
   "cell_type": "code",
   "execution_count": 328,
   "metadata": {
    "collapsed": true
   },
   "outputs": [
    {
     "data": {
      "text/plain": [
       "array([4.50102918e-02, 3.86229005e-02, 4.07789002e-02, 1.81393513e-01,\n",
       "       6.53661100e-02, 1.14593994e-03, 7.31749471e-02, 5.97889284e-05,\n",
       "       4.79813836e-05, 7.13448832e-05, 6.01640801e-05, 0.00000000e+00,\n",
       "       9.20518721e-06, 5.48425254e-06, 1.52734535e-06, 3.67953446e-07,\n",
       "       6.85005376e-06, 0.00000000e+00, 1.68395201e-06, 1.65714077e-07,\n",
       "       2.14676209e-04, 1.88175218e-05, 3.72544969e-04, 7.12007493e-09,\n",
       "       2.25369275e-06, 7.61768223e-05, 3.25974405e-05, 0.00000000e+00,\n",
       "       0.00000000e+00, 7.52259742e-06, 0.00000000e+00, 3.77737292e-05,\n",
       "       6.99378274e-06, 6.28216469e-07, 3.66657901e-06, 4.72205295e-03,\n",
       "       1.17482580e-04, 3.02030923e-07, 4.54650381e-05, 5.90414932e-05,\n",
       "       3.34506215e-06, 2.05798252e-06, 0.00000000e+00, 7.77922979e-07,\n",
       "       3.53655940e-04, 6.94349828e-04, 2.33604532e-02, 0.00000000e+00,\n",
       "       0.00000000e+00, 1.26123207e-05, 6.42662798e-06, 5.74761325e-03,\n",
       "       5.05323452e-03, 1.74383238e-04, 1.45297446e-03, 2.18239729e-04,\n",
       "       0.00000000e+00, 0.00000000e+00, 0.00000000e+00, 9.10533489e-05,\n",
       "       7.64251558e-07, 6.41579132e-04, 0.00000000e+00, 2.42644850e-02,\n",
       "       0.00000000e+00, 0.00000000e+00, 0.00000000e+00, 1.59565616e-04,\n",
       "       0.00000000e+00, 2.14028848e-02, 8.04368494e-06, 9.07917099e-06,\n",
       "       0.00000000e+00, 0.00000000e+00, 2.07451381e-02, 0.00000000e+00,\n",
       "       1.80139067e-03, 0.00000000e+00, 4.84859498e-05, 0.00000000e+00,\n",
       "       6.03045645e-03, 0.00000000e+00, 0.00000000e+00, 2.44369155e-02,\n",
       "       4.96962544e-06, 2.80014199e-05, 8.38121252e-04, 0.00000000e+00,\n",
       "       9.53009029e-07, 0.00000000e+00, 0.00000000e+00, 0.00000000e+00,\n",
       "       0.00000000e+00, 0.00000000e+00, 0.00000000e+00, 3.58339582e-03,\n",
       "       0.00000000e+00, 0.00000000e+00, 1.37779885e-02, 0.00000000e+00,\n",
       "       0.00000000e+00, 4.00456861e-05, 1.26318511e-03, 1.64343438e-02,\n",
       "       0.00000000e+00, 6.23781818e-04, 0.00000000e+00, 0.00000000e+00,\n",
       "       5.55662902e-04, 0.00000000e+00, 0.00000000e+00, 0.00000000e+00,\n",
       "       0.00000000e+00, 2.49136732e-02, 0.00000000e+00, 2.08473664e-02,\n",
       "       0.00000000e+00, 0.00000000e+00, 0.00000000e+00, 0.00000000e+00,\n",
       "       0.00000000e+00, 0.00000000e+00, 0.00000000e+00, 0.00000000e+00,\n",
       "       0.00000000e+00, 0.00000000e+00, 0.00000000e+00, 1.01498654e-04,\n",
       "       0.00000000e+00, 0.00000000e+00, 0.00000000e+00, 2.54318896e-02,\n",
       "       0.00000000e+00, 0.00000000e+00, 0.00000000e+00, 0.00000000e+00,\n",
       "       6.66637081e-03, 5.46413670e-04, 3.29226288e-02, 0.00000000e+00,\n",
       "       0.00000000e+00, 0.00000000e+00, 0.00000000e+00, 6.56104567e-04,\n",
       "       0.00000000e+00, 0.00000000e+00, 9.00180485e-04, 0.00000000e+00,\n",
       "       2.68489694e-04, 3.64620578e-04, 0.00000000e+00, 4.05728932e-04,\n",
       "       6.24106123e-04, 0.00000000e+00, 0.00000000e+00, 0.00000000e+00,\n",
       "       4.87539358e-03, 2.24892109e-04, 0.00000000e+00, 0.00000000e+00,\n",
       "       2.05476628e-05, 0.00000000e+00, 0.00000000e+00, 0.00000000e+00,\n",
       "       0.00000000e+00, 0.00000000e+00, 6.45814245e-03, 0.00000000e+00,\n",
       "       0.00000000e+00, 0.00000000e+00, 0.00000000e+00, 5.72662515e-04,\n",
       "       2.12506921e-02, 4.29234336e-05, 0.00000000e+00, 2.81135789e-03,\n",
       "       0.00000000e+00, 0.00000000e+00, 0.00000000e+00, 0.00000000e+00,\n",
       "       7.83522215e-03, 0.00000000e+00, 0.00000000e+00, 3.84732988e-04,\n",
       "       0.00000000e+00, 0.00000000e+00, 0.00000000e+00, 0.00000000e+00,\n",
       "       0.00000000e+00, 3.57346216e-08, 0.00000000e+00, 0.00000000e+00,\n",
       "       2.12718737e-02, 0.00000000e+00, 0.00000000e+00, 1.44879116e-02,\n",
       "       3.33767718e-04, 2.68868884e-04, 9.40326574e-05, 0.00000000e+00,\n",
       "       0.00000000e+00, 0.00000000e+00, 0.00000000e+00, 2.98786839e-02,\n",
       "       2.74100359e-03, 1.59962672e-03, 1.17498688e-03, 0.00000000e+00,\n",
       "       2.07405832e-04, 7.92040077e-02, 4.59250884e-04, 1.98640418e-03,\n",
       "       2.49386759e-03, 0.00000000e+00, 1.24091030e-02, 4.69179470e-02,\n",
       "       0.00000000e+00])"
      ]
     },
     "execution_count": 328,
     "metadata": {},
     "output_type": "execute_result"
    }
   ],
   "source": [
    "importance=rfc.feature_importances_\n",
    "importance"
   ]
  },
  {
   "cell_type": "markdown",
   "metadata": {},
   "source": [
    "## XGboost"
   ]
  },
  {
   "cell_type": "code",
   "execution_count": 352,
   "metadata": {},
   "outputs": [
    {
     "data": {
      "text/plain": [
       "XGBClassifier(base_score=0.5, booster='gbtree', colsample_bylevel=1,\n",
       "              colsample_bynode=1, colsample_bytree=1, gamma=0, gpu_id=-1,\n",
       "              importance_type='gain', interaction_constraints='',\n",
       "              learning_rate=0.300000012, max_delta_step=0, max_depth=6,\n",
       "              min_child_weight=1, missing=nan, monotone_constraints='()',\n",
       "              n_estimators=100, n_jobs=0, num_parallel_tree=1,\n",
       "              objective='binary:logistic', random_state=0, reg_alpha=0,\n",
       "              reg_lambda=1, scale_pos_weight=1, subsample=1,\n",
       "              tree_method='exact', validate_parameters=1, verbosity=None)"
      ]
     },
     "execution_count": 352,
     "metadata": {},
     "output_type": "execute_result"
    }
   ],
   "source": [
    "xgb_test=xgb.XGBClassifier(objective ='binary:logistic')\n",
    "xgb_test.fit(X_dtrain,y_train)"
   ]
  },
  {
   "cell_type": "code",
   "execution_count": 353,
   "metadata": {},
   "outputs": [
    {
     "name": "stdout",
     "output_type": "stream",
     "text": [
      "Accuracy: 0.7573985426934232\n",
      "F1 Score: 0.7954590639786869\n"
     ]
    }
   ],
   "source": [
    "y_pred_xgb=xgb_test.predict(X_dtest)\n",
    "\n",
    "print('Accuracy:',accuracy_score(y_test,y_pred_xgb))\n",
    "print('F1 Score:',f1_score(y_test,y_pred_xgb))"
   ]
  },
  {
   "cell_type": "code",
   "execution_count": 354,
   "metadata": {},
   "outputs": [
    {
     "data": {
      "image/png": "[encoded data removed]",
      "text/plain": [
       "<Figure size 432x288 with 2 Axes>"
      ]
     },
     "metadata": {
      "needs_background": "light"
     },
     "output_type": "display_data"
    }
   ],
   "source": [
    "from sklearn.metrics import plot_confusion_matrix\n",
    "\n",
    "plot_confusion_matrix(xgb_test,X_dtest,y_test)\n",
    "plt.show()"
   ]
  },
  {
   "cell_type": "code",
   "execution_count": 355,
   "metadata": {},
   "outputs": [
    {
     "name": "stdout",
     "output_type": "stream",
     "text": [
      "              precision    recall  f1-score   support\n",
      "\n",
      "           0       0.73      0.68      0.70     17930\n",
      "           1       0.77      0.82      0.80     24477\n",
      "\n",
      "    accuracy                           0.76     42407\n",
      "   macro avg       0.75      0.75      0.75     42407\n",
      "weighted avg       0.76      0.76      0.76     42407\n",
      "\n"
     ]
    }
   ],
   "source": [
    "print(metrics.classification_report(y_test,y_pred_xgb))"
   ]
  },
  {
   "cell_type": "code",
   "execution_count": 356,
   "metadata": {
    "collapsed": true
   },
   "outputs": [
    {
     "data": {
      "text/plain": [
       "XGBClassifier(base_score=0.5, booster='gbtree', colsample_bylevel=1,\n",
       "              colsample_bynode=1, colsample_bytree=1, gamma=0, gpu_id=-1,\n",
       "              importance_type='gain', interaction_constraints='',\n",
       "              learning_rate=0.300000012, max_delta_step=0, max_depth=6,\n",
       "              min_child_weight=1, missing=nan, monotone_constraints='()',\n",
       "              n_estimators=100, n_jobs=0, num_parallel_tree=1,\n",
       "              objective='binary:logistic', random_state=0, reg_alpha=0,\n",
       "              reg_lambda=1, scale_pos_weight=1, subsample=1,\n",
       "              tree_method='exact', validate_parameters=1, verbosity=None)"
      ]
     },
     "execution_count": 356,
     "metadata": {},
     "output_type": "execute_result"
    }
   ],
   "source": [
    "xgb_tests=xgb.XGBClassifier(objective ='binary:logistic')\n",
    "xgb_tests.fit(X_scale_train,y_train)"
   ]
  },
  {
   "cell_type": "code",
   "execution_count": 357,
   "metadata": {},
   "outputs": [
    {
     "name": "stdout",
     "output_type": "stream",
     "text": [
      "Accuracy: 0.7575400287688353\n",
      "F1 Score: 0.7962023309284072\n"
     ]
    }
   ],
   "source": [
    "y_pred_xgb_scale=xgb_tests.predict(X_scale_test)\n",
    "\n",
    "print('Accuracy:',accuracy_score(y_test,y_pred_xgb_scale))\n",
    "print('F1 Score:',f1_score(y_test,y_pred_xgb_scale))"
   ]
  },
  {
   "cell_type": "code",
   "execution_count": 358,
   "metadata": {},
   "outputs": [
    {
     "data": {
      "image/png": "[encoded data removed]",
      "text/plain": [
       "<Figure size 432x288 with 2 Axes>"
      ]
     },
     "metadata": {
      "needs_background": "light"
     },
     "output_type": "display_data"
    }
   ],
   "source": [
    "from sklearn.metrics import plot_confusion_matrix\n",
    "\n",
    "plot_confusion_matrix(xgb_tests,X_scale_test,y_test)\n",
    "plt.show()"
   ]
  },
  {
   "cell_type": "code",
   "execution_count": 359,
   "metadata": {},
   "outputs": [
    {
     "name": "stdout",
     "output_type": "stream",
     "text": [
      "              precision    recall  f1-score   support\n",
      "\n",
      "           0       0.73      0.67      0.70     17930\n",
      "           1       0.77      0.82      0.80     24477\n",
      "\n",
      "    accuracy                           0.76     42407\n",
      "   macro avg       0.75      0.75      0.75     42407\n",
      "weighted avg       0.76      0.76      0.76     42407\n",
      "\n"
     ]
    }
   ],
   "source": [
    "print(metrics.classification_report(y_test,y_pred_xgb_scale))"
   ]
  },
  {
   "cell_type": "code",
   "execution_count": 371,
   "metadata": {},
   "outputs": [
    {
     "name": "stdout",
     "output_type": "stream",
     "text": [
      "['country_NO' 'currency_CAD' 'currency_CHF' 'currency_DKK' 'currency_GBP'\n",
      " 'currency_HKD' 'currency_JPY' 'currency_MXN' 'currency_NOK'\n",
      " 'currency_NZD' 'currency_SEK' 'currency_SGD' 'currency_USD']\n"
     ]
    },
    {
     "data": {
      "image/png": "[encoded data removed]",
      "text/plain": [
       "<Figure size 432x288 with 1 Axes>"
      ]
     },
     "metadata": {
      "needs_background": "light"
     },
     "output_type": "display_data"
    }
   ],
   "source": [
    "# get importance\n",
    "importance_xgb = xgb_test.feature_importances_\n",
    "featureImpx=[]\n",
    "for feat, importance in zip(X_dtrain.columns, importance_xgb):  \n",
    "    temp = [feat, importance*100]\n",
    "    featureImpx.append(temp)\n",
    "# summarize feature importance\n",
    "# for i,v in enumerate(importance_xgb):\n",
    "# \tprint('Feature: %0d, Score: %.5f' % (i,v))\n",
    "\n",
    "xgb_importance = pd.DataFrame(featureImpx, columns = ['Feature', 'Importance'])\n",
    "imp_0=xgb_importance.Feature[xgb_importance.Importance==0].values\n",
    "print(imp_0)\n",
    "# plot feature importance\n",
    "plt.bar([x for x in range(len(importance_xgb))], importance_xgb)\n",
    "plt.show()"
   ]
  },
  {
   "cell_type": "code",
   "execution_count": 360,
   "metadata": {
    "scrolled": true
   },
   "outputs": [
    {
     "data": {
      "text/plain": [
       "<matplotlib.axes._subplots.AxesSubplot at 0x24a23679ac8>"
      ]
     },
     "execution_count": 360,
     "metadata": {},
     "output_type": "execute_result"
    },
    {
     "data": {
      "image/png": "[encoded data removed]",
      "text/plain": [
       "<Figure size 432x288 with 1 Axes>"
      ]
     },
     "metadata": {
      "needs_background": "light"
     },
     "output_type": "display_data"
    }
   ],
   "source": [
    "# Plot Top 10 important features by weight\n",
    "xgb.plot_importance(xgb_test, max_num_features=10,)"
   ]
  },
  {
   "cell_type": "markdown",
   "metadata": {},
   "source": [
    "## XGboost GridSearch"
   ]
  },
  {
   "cell_type": "code",
   "execution_count": 364,
   "metadata": {},
   "outputs": [],
   "source": [
    "#Instantiate xgb model for gridsearch\n",
    "xgb_base = xgb.XGBClassifier(objective = 'binary:logistic')\n",
    "# Set up params\n",
    "param_dict = {'n_estimators': [100,300,500],\n",
    "              'learning_rate': [0.1,0.07,0.05],\n",
    "              'subsample':[0.3,0.4],\n",
    "              'max_depth': [3, 4, 5, 6, 7],\n",
    "              'colsample_bytree': [0.5,0.45,0.4],\n",
    "              'min_child_weight': [1, 2, 3],\n",
    "              'scale_pos_weight':[1.0,1.38]\n",
    "             }"
   ]
  },
  {
   "cell_type": "code",
   "execution_count": 365,
   "metadata": {},
   "outputs": [],
   "source": [
    "# initiate the Gridsearch model\n",
    "xgb_grid = GridSearchCV(\n",
    "    estimator = xgb_base,\n",
    "    param_grid = param_dict, \n",
    "    scoring='f1',\n",
    "    n_jobs=-1,\n",
    "    verbose=1,\n",
    "    iid=False, \n",
    "    cv=5)\n"
   ]
  },
  {
   "cell_type": "code",
   "execution_count": null,
   "metadata": {
    "scrolled": true
   },
   "outputs": [
    {
     "name": "stdout",
     "output_type": "stream",
     "text": [
      "Fitting 5 folds for each of 1620 candidates, totalling 8100 fits\n"
     ]
    },
    {
     "name": "stderr",
     "output_type": "stream",
     "text": [
      "[Parallel(n_jobs=-1)]: Using backend LokyBackend with 4 concurrent workers.\n",
      "[Parallel(n_jobs=-1)]: Done  42 tasks      | elapsed:  8.1min\n",
      "[Parallel(n_jobs=-1)]: Done 192 tasks      | elapsed: 43.7min\n",
      "[Parallel(n_jobs=-1)]: Done 442 tasks      | elapsed: 122.6min\n",
      "[Parallel(n_jobs=-1)]: Done 792 tasks      | elapsed: 257.1min\n",
      "[Parallel(n_jobs=-1)]: Done 1242 tasks      | elapsed: 389.8min\n"
     ]
    }
   ],
   "source": [
    "xgb_grid.fit(X_dtrain.drop(columns=imp_0),y_train)"
   ]
  },
  {
   "cell_type": "code",
   "execution_count": null,
   "metadata": {},
   "outputs": [],
   "source": []
  },
  {
   "cell_type": "code",
   "execution_count": 233,
   "metadata": {
    "collapsed": true
   },
   "outputs": [
    {
     "data": {
      "text/html": [
       "<div>\n",
       "<style scoped>\n",
       "    .dataframe tbody tr th:only-of-type {\n",
       "        vertical-align: middle;\n",
       "    }\n",
       "\n",
       "    .dataframe tbody tr th {\n",
       "        vertical-align: top;\n",
       "    }\n",
       "\n",
       "    .dataframe thead th {\n",
       "        text-align: right;\n",
       "    }\n",
       "</style>\n",
       "<table border=\"1\" class=\"dataframe\">\n",
       "  <thead>\n",
       "    <tr style=\"text-align: right;\">\n",
       "      <th></th>\n",
       "      <th>converted_pledged_amount</th>\n",
       "      <th>country_displayable_name</th>\n",
       "      <th>currency</th>\n",
       "      <th>current_currency</th>\n",
       "      <th>fx_rate</th>\n",
       "      <th>goal</th>\n",
       "      <th>pledged</th>\n",
       "      <th>static_usd_rate</th>\n",
       "      <th>usd_pledged</th>\n",
       "      <th>state</th>\n",
       "    </tr>\n",
       "    <tr>\n",
       "      <th>id</th>\n",
       "      <th></th>\n",
       "      <th></th>\n",
       "      <th></th>\n",
       "      <th></th>\n",
       "      <th></th>\n",
       "      <th></th>\n",
       "      <th></th>\n",
       "      <th></th>\n",
       "      <th></th>\n",
       "      <th></th>\n",
       "    </tr>\n",
       "  </thead>\n",
       "  <tbody>\n",
       "    <tr>\n",
       "      <th>610974227</th>\n",
       "      <td>60</td>\n",
       "      <td>New Zealand</td>\n",
       "      <td>NZD</td>\n",
       "      <td>USD</td>\n",
       "      <td>0.607548</td>\n",
       "      <td>29471.122875</td>\n",
       "      <td>82.0</td>\n",
       "      <td>0.785897</td>\n",
       "      <td>64.443522</td>\n",
       "      <td>0</td>\n",
       "    </tr>\n",
       "    <tr>\n",
       "      <th>1426539402</th>\n",
       "      <td>1341</td>\n",
       "      <td>Switzerland</td>\n",
       "      <td>CHF</td>\n",
       "      <td>USD</td>\n",
       "      <td>1.040524</td>\n",
       "      <td>58146.249279</td>\n",
       "      <td>1328.0</td>\n",
       "      <td>1.004253</td>\n",
       "      <td>1333.647997</td>\n",
       "      <td>0</td>\n",
       "    </tr>\n",
       "    <tr>\n",
       "      <th>1427082994</th>\n",
       "      <td>2831</td>\n",
       "      <td>France</td>\n",
       "      <td>EUR</td>\n",
       "      <td>USD</td>\n",
       "      <td>1.097649</td>\n",
       "      <td>5655.315300</td>\n",
       "      <td>2570.0</td>\n",
       "      <td>1.131063</td>\n",
       "      <td>2906.832064</td>\n",
       "      <td>0</td>\n",
       "    </tr>\n",
       "    <tr>\n",
       "      <th>881336601</th>\n",
       "      <td>127</td>\n",
       "      <td>Hong Kong</td>\n",
       "      <td>HKD</td>\n",
       "      <td>USD</td>\n",
       "      <td>0.129000</td>\n",
       "      <td>12808.538000</td>\n",
       "      <td>1000.0</td>\n",
       "      <td>0.128085</td>\n",
       "      <td>128.085380</td>\n",
       "      <td>0</td>\n",
       "    </tr>\n",
       "    <tr>\n",
       "      <th>883745144</th>\n",
       "      <td>1276</td>\n",
       "      <td>Australia</td>\n",
       "      <td>AUD</td>\n",
       "      <td>USD</td>\n",
       "      <td>0.627763</td>\n",
       "      <td>25830.391650</td>\n",
       "      <td>1655.0</td>\n",
       "      <td>0.738011</td>\n",
       "      <td>1221.408519</td>\n",
       "      <td>0</td>\n",
       "    </tr>\n",
       "    <tr>\n",
       "      <th>...</th>\n",
       "      <td>...</td>\n",
       "      <td>...</td>\n",
       "      <td>...</td>\n",
       "      <td>...</td>\n",
       "      <td>...</td>\n",
       "      <td>...</td>\n",
       "      <td>...</td>\n",
       "      <td>...</td>\n",
       "      <td>...</td>\n",
       "      <td>...</td>\n",
       "    </tr>\n",
       "    <tr>\n",
       "      <th>1543404362</th>\n",
       "      <td>3</td>\n",
       "      <td>Mexico</td>\n",
       "      <td>MXN</td>\n",
       "      <td>USD</td>\n",
       "      <td>0.042649</td>\n",
       "      <td>985.087476</td>\n",
       "      <td>60.0</td>\n",
       "      <td>0.052398</td>\n",
       "      <td>3.143896</td>\n",
       "      <td>0</td>\n",
       "    </tr>\n",
       "    <tr>\n",
       "      <th>1266099862</th>\n",
       "      <td>14523</td>\n",
       "      <td>Hong Kong</td>\n",
       "      <td>HKD</td>\n",
       "      <td>USD</td>\n",
       "      <td>0.129021</td>\n",
       "      <td>25618.090000</td>\n",
       "      <td>113450.0</td>\n",
       "      <td>0.128090</td>\n",
       "      <td>14531.861553</td>\n",
       "      <td>0</td>\n",
       "    </tr>\n",
       "    <tr>\n",
       "      <th>1822859144</th>\n",
       "      <td>3354</td>\n",
       "      <td>Hong Kong</td>\n",
       "      <td>HKD</td>\n",
       "      <td>USD</td>\n",
       "      <td>0.129021</td>\n",
       "      <td>25550.778000</td>\n",
       "      <td>26190.0</td>\n",
       "      <td>0.127754</td>\n",
       "      <td>3345.874379</td>\n",
       "      <td>0</td>\n",
       "    </tr>\n",
       "    <tr>\n",
       "      <th>1341551327</th>\n",
       "      <td>144</td>\n",
       "      <td>the United Kingdom</td>\n",
       "      <td>GBP</td>\n",
       "      <td>USD</td>\n",
       "      <td>1.260842</td>\n",
       "      <td>397.925481</td>\n",
       "      <td>110.0</td>\n",
       "      <td>1.326418</td>\n",
       "      <td>145.906010</td>\n",
       "      <td>0</td>\n",
       "    </tr>\n",
       "    <tr>\n",
       "      <th>1731611971</th>\n",
       "      <td>169</td>\n",
       "      <td>Germany</td>\n",
       "      <td>EUR</td>\n",
       "      <td>USD</td>\n",
       "      <td>1.087390</td>\n",
       "      <td>5023.728765</td>\n",
       "      <td>150.0</td>\n",
       "      <td>1.116384</td>\n",
       "      <td>167.457625</td>\n",
       "      <td>0</td>\n",
       "    </tr>\n",
       "  </tbody>\n",
       "</table>\n",
       "<p>22758 rows × 10 columns</p>\n",
       "</div>"
      ],
      "text/plain": [
       "            converted_pledged_amount country_displayable_name currency  \\\n",
       "id                                                                       \n",
       "610974227                         60              New Zealand      NZD   \n",
       "1426539402                      1341              Switzerland      CHF   \n",
       "1427082994                      2831                   France      EUR   \n",
       "881336601                        127                Hong Kong      HKD   \n",
       "883745144                       1276                Australia      AUD   \n",
       "...                              ...                      ...      ...   \n",
       "1543404362                         3                   Mexico      MXN   \n",
       "1266099862                     14523                Hong Kong      HKD   \n",
       "1822859144                      3354                Hong Kong      HKD   \n",
       "1341551327                       144       the United Kingdom      GBP   \n",
       "1731611971                       169                  Germany      EUR   \n",
       "\n",
       "           current_currency   fx_rate          goal   pledged  \\\n",
       "id                                                              \n",
       "610974227               USD  0.607548  29471.122875      82.0   \n",
       "1426539402              USD  1.040524  58146.249279    1328.0   \n",
       "1427082994              USD  1.097649   5655.315300    2570.0   \n",
       "881336601               USD  0.129000  12808.538000    1000.0   \n",
       "883745144               USD  0.627763  25830.391650    1655.0   \n",
       "...                     ...       ...           ...       ...   \n",
       "1543404362              USD  0.042649    985.087476      60.0   \n",
       "1266099862              USD  0.129021  25618.090000  113450.0   \n",
       "1822859144              USD  0.129021  25550.778000   26190.0   \n",
       "1341551327              USD  1.260842    397.925481     110.0   \n",
       "1731611971              USD  1.087390   5023.728765     150.0   \n",
       "\n",
       "            static_usd_rate   usd_pledged  state  \n",
       "id                                                \n",
       "610974227          0.785897     64.443522      0  \n",
       "1426539402         1.004253   1333.647997      0  \n",
       "1427082994         1.131063   2906.832064      0  \n",
       "881336601          0.128085    128.085380      0  \n",
       "883745144          0.738011   1221.408519      0  \n",
       "...                     ...           ...    ...  \n",
       "1543404362         0.052398      3.143896      0  \n",
       "1266099862         0.128090  14531.861553      0  \n",
       "1822859144         0.127754   3345.874379      0  \n",
       "1341551327         1.326418    145.906010      0  \n",
       "1731611971         1.116384    167.457625      0  \n",
       "\n",
       "[22758 rows x 10 columns]"
      ]
     },
     "execution_count": 233,
     "metadata": {},
     "output_type": "execute_result"
    }
   ],
   "source": [
    "df_train[(df_train.currency!=df_train.current_currency)&(df_train.state==0)][['converted_pledged_amount','country_displayable_name','currency',\n",
    "                                                        'current_currency','fx_rate','goal','pledged','static_usd_rate',\n",
    "                                                        'usd_pledged','state']]"
   ]
  },
  {
   "cell_type": "code",
   "execution_count": 231,
   "metadata": {},
   "outputs": [
    {
     "data": {
      "text/html": [
       "<div>\n",
       "<style scoped>\n",
       "    .dataframe tbody tr th:only-of-type {\n",
       "        vertical-align: middle;\n",
       "    }\n",
       "\n",
       "    .dataframe tbody tr th {\n",
       "        vertical-align: top;\n",
       "    }\n",
       "\n",
       "    .dataframe thead th {\n",
       "        text-align: right;\n",
       "    }\n",
       "</style>\n",
       "<table border=\"1\" class=\"dataframe\">\n",
       "  <thead>\n",
       "    <tr style=\"text-align: right;\">\n",
       "      <th></th>\n",
       "      <th>converted_pledged_amount</th>\n",
       "      <th>country_displayable_name</th>\n",
       "      <th>currency</th>\n",
       "      <th>current_currency</th>\n",
       "      <th>fx_rate</th>\n",
       "      <th>goal</th>\n",
       "      <th>pledged</th>\n",
       "      <th>static_usd_rate</th>\n",
       "      <th>usd_pledged</th>\n",
       "      <th>state</th>\n",
       "    </tr>\n",
       "    <tr>\n",
       "      <th>id</th>\n",
       "      <th></th>\n",
       "      <th></th>\n",
       "      <th></th>\n",
       "      <th></th>\n",
       "      <th></th>\n",
       "      <th></th>\n",
       "      <th></th>\n",
       "      <th></th>\n",
       "      <th></th>\n",
       "      <th></th>\n",
       "    </tr>\n",
       "  </thead>\n",
       "  <tbody>\n",
       "    <tr>\n",
       "      <th>1769772834</th>\n",
       "      <td>30716</td>\n",
       "      <td>the United States</td>\n",
       "      <td>USD</td>\n",
       "      <td>USD</td>\n",
       "      <td>1.0</td>\n",
       "      <td>36000.0</td>\n",
       "      <td>30716.0</td>\n",
       "      <td>1.0</td>\n",
       "      <td>30716.0</td>\n",
       "      <td>1</td>\n",
       "    </tr>\n",
       "  </tbody>\n",
       "</table>\n",
       "</div>"
      ],
      "text/plain": [
       "            converted_pledged_amount country_displayable_name currency  \\\n",
       "id                                                                       \n",
       "1769772834                     30716        the United States      USD   \n",
       "\n",
       "           current_currency  fx_rate     goal  pledged  static_usd_rate  \\\n",
       "id                                                                        \n",
       "1769772834              USD      1.0  36000.0  30716.0              1.0   \n",
       "\n",
       "            usd_pledged  state  \n",
       "id                              \n",
       "1769772834      30716.0      1  "
      ]
     },
     "execution_count": 231,
     "metadata": {},
     "output_type": "execute_result"
    }
   ],
   "source": [
    "df_train[(df_train.pledged<df_train.goal)&(df_train.state==1)][['converted_pledged_amount','country_displayable_name','currency',\n",
    "                                                        'current_currency','fx_rate','goal','pledged','static_usd_rate',\n",
    "                                                        'usd_pledged','state']]"
   ]
  },
  {
   "cell_type": "code",
   "execution_count": 282,
   "metadata": {},
   "outputs": [
    {
     "data": {
      "text/plain": [
       "array([0])"
      ]
     },
     "execution_count": 282,
     "metadata": {},
     "output_type": "execute_result"
    }
   ],
   "source": [
    "df_final.state[df_final.spotlight==False].unique()"
   ]
  },
  {
   "cell_type": "code",
   "execution_count": null,
   "metadata": {},
   "outputs": [],
   "source": []
  }
 ],
 "metadata": {
  "kernelspec": {
   "display_name": "Python 3",
   "language": "python",
   "name": "python3"
  },
  "language_info": {
   "codemirror_mode": {
    "name": "ipython",
    "version": 3
   },
   "file_extension": ".py",
   "mimetype": "text/x-python",
   "name": "python",
   "nbconvert_exporter": "python",
   "pygments_lexer": "ipython3",
   "version": "3.7.7"
  }
 },
 "nbformat": 4,
 "nbformat_minor": 4
}
